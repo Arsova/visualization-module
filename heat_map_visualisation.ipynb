{
 "cells": [
  {
   "cell_type": "markdown",
   "metadata": {},
   "source": [
    "# Starting with Bokeh\n",
    "In this notebook the first functions to manipulate Bokeh\n"
   ]
  },
  {
   "cell_type": "code",
   "execution_count": null,
   "metadata": {
    "collapsed": true
   },
   "outputs": [],
   "source": [
    "import numpy as np\n",
    "import pandas as pd\n",
    "from bokeh.plotting import figure, show, output_file\n",
    "\n",
    "from bokeh.io import show\n",
    "from bokeh.models import (\n",
    "    ColumnDataSource,\n",
    "    HoverTool,\n",
    "    LinearColorMapper,\n",
    "    BasicTicker,\n",
    "    PrintfTickFormatter,\n",
    "    ColorBar,\n",
    ")\n",
    "\n",
    "from math import pi\n",
    "import sys\n",
    "import matplotlib as mpl\n",
    "mpl.rcParams['axes.titlesize'] = 20\n",
    "mpl.rcParams['axes.labelsize'] = 18\n",
    "mpl.rcParams['xtick.labelsize'] = 16\n",
    "mpl.rcParams['ytick.labelsize'] = 16\n",
    "\n",
    "import matplotlib.pyplot as plt\n",
    "import seaborn as sns"
   ]
  },
  {
   "cell_type": "code",
   "execution_count": null,
   "metadata": {
    "collapsed": true
   },
   "outputs": [],
   "source": [
    "# Data pre-processing\n",
    "data = pd.read_csv('data/data_elog_eindhoven.csv', sep = ';')\n",
    "# Delete columns\n",
    "to_delete = ['Unnamed: 0', 'index']\n",
    "data.drop(to_delete, axis=1, inplace=True)\n",
    "\n",
    "#Sorth the data\n",
    "data.sort_values(['location', 'UTC_time' ], ascending=[True, True], inplace=True)\n",
    "def calculate_diff(data): \n",
    "    \"\"\"\n",
    "    In this function the consumption difference is calculated per user.\n",
    "    \"\"\"\n",
    "    def diff_func(df): return df.diff()\n",
    "    data['delta_total'] = data.groupby('location')['total'].apply(diff_func)\n",
    "    \n",
    "    return data.reset_index(drop=True)\n",
    "\n",
    "data = calculate_diff(data)\n",
    "\n",
    "#Create new varianbles\n",
    "data['dummy'] = 1\n",
    "data['datetime64'] = pd.to_datetime(data['UTC_time'])\n",
    "data['norm_date'] = data['datetime64'].dt.normalize()\n",
    "data['year'] = data['datetime64'].dt.year\n",
    "data['month'] = data['datetime64'].dt.month\n",
    "data['day'] = data['datetime64'].dt.day\n",
    "data['hour'] = data['datetime64'].dt.hour\n",
    "data = data[data['year'] == 2017] #Only files in 2017"
   ]
  },
  {
   "cell_type": "markdown",
   "metadata": {},
   "source": [
    "## Heat-Map for Water Consuption\n",
    "Vizualization of the average water consuption per hour in different time sections of the day. Only averages where the number pf obsevations $n>H$ are considered (0 otherwise.)"
   ]
  },
  {
   "cell_type": "markdown",
   "metadata": {},
   "source": [
    "### Data Agegation\n"
   ]
  },
  {
   "cell_type": "code",
   "execution_count": null,
   "metadata": {},
   "outputs": [],
   "source": [
    "def heat_map_mpl(hour_consuption, num_locations, H = 0):\n",
    "    \n",
    "    hour_consuption[num_locations < H] = 0\n",
    "    mask = np.zeros_like(hour_consuption, dtype=np.bool)\n",
    "    mask[np.triu_indices_from(mask)] = True\n",
    "    f, ax = plt.subplots(figsize=(25, 20))\n",
    "    \n",
    "    cmap = sns.cubehelix_palette(light=1, as_cmap=True)\n",
    "    #cmap = sns.diverging_palette(220, 10, as_cmap=True)\n",
    "    sns.heatmap(hour_consuption, cmap=cmap, linewidths=.5, square= False)\n",
    "    ax.set_xticks([])\n",
    "    #mpl.pyplot.savefig('Figures/correlation_Dependent_Independet.png')\n",
    "    plt.show()\n",
    "\n",
    "\n",
    "def data_aggregation(data, aggegation_method = 'sum'):\n",
    "    \"\"\"\n",
    "    This funtion creates the matrices that will be use to generate the heat maps\n",
    "    Params:\n",
    "    data: the elog data set\n",
    "    aggegation_method: how to aggregate the data ['sum', 'mean', 'median']\n",
    "    Return:\n",
    "    hour_consuption: Matrix with the average water consuption per time slot (hour)\n",
    "    \"\"\"\n",
    "    # Here we create the matrices that will be shown at the heat-map\n",
    "    data = data.dropna()\n",
    "    \n",
    "    if aggegation_method == 'median':\n",
    "        hour_consuption = data.groupby(by = ['month', 'hour'])['delta_total'].median()\n",
    "   \n",
    "    elif aggegation_method == 'sum':\n",
    "        hour_consuption = data.groupby(by = ['month', 'hour'])['delta_total'].sum()\n",
    "        \n",
    "    elif aggegation_method == 'mean':\n",
    "        hour_consuption = data.groupby(by = ['month', 'hour'])['delta_total'].mean() \n",
    "        \n",
    "    else:\n",
    "        print('The option {} does not exist, please select [sum, mean, median]'.format(aggegation_method))\n",
    "        sys.exit()\n",
    "        \n",
    "    num_locations = data.groupby(by = ['month', 'hour'] , as_index=False).apply(lambda x: x.location.nunique()) #This must be cheched, all values are 5\n",
    "    \n",
    "    \n",
    "    # Change formats\n",
    "    #dict_month = {1:'Jan', 2:'Feb', 3:'Mar', 4:'Apr', 5:'May', 6:'Jun', 7:'Jul', 8:'Aug', 9:'Sep', 10:'Oct', 11:'Nov', 12:'Dec'}\n",
    "    \n",
    "    hour_consuption = hour_consuption.unstack()\n",
    "    hour_consuption.index = hour_consuption.index.astype(str)\n",
    "    hour_consuption.columns = hour_consuption.columns.astype(str)\n",
    "    \n",
    "    num_locations = num_locations.unstack()\n",
    "    num_locations.index = hour_consuption.index.astype(str)\n",
    "    num_locations.columns = hour_consuption.columns.astype(str)\n",
    "        \n",
    "    #Test for errors\n",
    "    \n",
    "    \n",
    "    assert hour_consuption.shape == num_locations.shape, 'different shapes'\n",
    "\n",
    "    return hour_consuption.T, num_locations.T\n",
    "\n",
    "hour_consuption, num_locations = data_aggregation(data, 'median')"
   ]
  },
  {
   "cell_type": "code",
   "execution_count": null,
   "metadata": {},
   "outputs": [],
   "source": [
    "hour_consuption.head()"
   ]
  },
  {
   "cell_type": "code",
   "execution_count": null,
   "metadata": {
    "collapsed": true
   },
   "outputs": [],
   "source": [
    "# Create a file per location\n",
    "def create_files_HM(data):\n",
    "    unique_location = data['location'].unique()\n",
    "    \n",
    "    for i in unique_location:\n",
    "        temp_data = data[data['location'] == i]\n",
    "        hour_consuption, num_locations = data_aggregation(temp_data, 'sum')\n",
    "        aggregated_day = hour_consuption.sum(axis=0)\n",
    "        aggregated_day = aggregated_day.reset_index()\n",
    "        aggregated_day.columns = ['norm_date', 'total_consuption']\n",
    "        \n",
    "        hour_consuption.to_csv('data/Data_heat_maps/hour_consuption/{}.csv'.format(str(i)))\n",
    "        num_locations.to_csv('data/Data_heat_maps/num_locations/{}.csv'.format(str(i)))\n",
    "        aggregated_day.to_csv('data/Data_heat_maps/aggregated_day/{}.csv'.format(str(i)), index = False)\n",
    "        \n",
    "                             \n",
    "create_files_HM(data)"
   ]
  },
  {
   "cell_type": "code",
   "execution_count": null,
   "metadata": {
    "collapsed": true
   },
   "outputs": [],
   "source": [
    "# #These heat-maps can be used to spot mystakes\n",
    "# heat_map_mpl(hour_consuption, num_locations, 0)"
   ]
  },
  {
   "cell_type": "markdown",
   "metadata": {},
   "source": [
    "### Image\n",
    "Let's the fun have some fun with the Bokeh library\n"
   ]
  },
  {
   "cell_type": "code",
   "execution_count": null,
   "metadata": {
    "collapsed": true
   },
   "outputs": [],
   "source": [
    "# Simple Image plot, it seems \n",
    "def create_heat_map(data):\n",
    "    #baseed on: https://bokeh.pydata.org/en/latest/docs/gallery/image.html\n",
    "    x_max = data.shape[1]\n",
    "    y_man = data.shape[0]\n",
    "    p = figure(x_range=(0,x_max), y_range=(0,y_man))\n",
    "    p.image(image=[data.values], x=0, y=0, dw=x_max, dh=y_man, palette=\"Spectral11\")\n",
    "    output_file(\"image.html\", title=\"image.py example\")\n",
    "    show(p)"
   ]
  },
  {
   "cell_type": "code",
   "execution_count": null,
   "metadata": {},
   "outputs": [],
   "source": [
    "create_heat_map(hour_consuption)"
   ]
  },
  {
   "cell_type": "markdown",
   "metadata": {},
   "source": [
    "### Iterative scatter plot\n",
    "from: https://bokeh.pydata.org/en/latest/docs/gallery/color_scatter.html\n"
   ]
  },
  {
   "cell_type": "markdown",
   "metadata": {},
   "source": [
    "### Iteractive heat-map\n",
    "from: http://bokeh.pydata.org/en/latest/docs/gallery/unemployment.html"
   ]
  },
  {
   "cell_type": "code",
   "execution_count": null,
   "metadata": {},
   "outputs": [],
   "source": [
    "def plot_bokeh(data):\n",
    "\n",
    "    hours = list(data.index)\n",
    "    months = list(data.columns)\n",
    "    \n",
    "    # reshape to 1D array or rates with a month and year for each row.\n",
    "    df = pd.DataFrame(data.stack(), columns=['rate']).reset_index()\n",
    "\n",
    "    # this is the colormap from the original NYTimes plot\n",
    "    colors = [\"#75968f\", \"#a5bab7\", \"#c9d9d3\", \"#e2e2e2\", \"#dfccce\", \"#ddb7b1\", \"#cc7878\", \"#933b41\", \"#550b1d\"]\n",
    "    mapper = LinearColorMapper(palette=colors, low=df.rate.min(), high=df.rate.max())\n",
    "\n",
    "    source = ColumnDataSource(df)\n",
    "\n",
    "    TOOLS = \"hover,save,pan,box_zoom,reset,wheel_zoom\"\n",
    "\n",
    "    p = figure(title=\"Water Consumption (months from {0} to {1})\".format(months[0], months[-1]),\n",
    "               x_range = months, y_range = hours,\n",
    "               x_axis_location=\"above\", plot_width=900, plot_height=400,\n",
    "               tools=TOOLS, toolbar_location='below')\n",
    "\n",
    "    p.grid.grid_line_color = None\n",
    "    p.axis.axis_line_color = None\n",
    "    p.axis.major_tick_line_color = None\n",
    "    p.axis.major_label_text_font_size = \"5pt\"\n",
    "    p.axis.major_label_standoff = 0\n",
    "    p.xaxis.major_label_orientation = pi / 3\n",
    "\n",
    "    p.rect(x=\"month\", y=\"hour\", width=1, height=1,\n",
    "           source=source,\n",
    "           fill_color={'field': 'rate', 'transform': mapper},\n",
    "           line_color=None)\n",
    "\n",
    "    color_bar = ColorBar(color_mapper=mapper, major_label_text_font_size=\"5pt\",\n",
    "                         ticker=BasicTicker(desired_num_ticks=len(colors)),\n",
    "                         label_standoff=6, border_line_color=None, location=(0, 0))\n",
    "    p.add_layout(color_bar, 'right')\n",
    "\n",
    "    p.select_one(HoverTool).tooltips = [\n",
    "         ('date', '@month @hour'),\n",
    "         ('Water Consumption (L)', '@rate'),\n",
    "    ]\n",
    "\n",
    "    show(p)      # show the plot\n",
    "    \n",
    "plot_bokeh(hour_consuption)"
   ]
  }
 ],
 "metadata": {
  "kernelspec": {
   "display_name": "Python 3",
   "language": "python",
   "name": "python3"
  },
  "language_info": {
   "codemirror_mode": {
    "name": "ipython",
    "version": 3
   },
   "file_extension": ".py",
   "mimetype": "text/x-python",
   "name": "python",
   "nbconvert_exporter": "python",
   "pygments_lexer": "ipython3",
   "version": "3.6.3"
  }
 },
 "nbformat": 4,
 "nbformat_minor": 2
}
