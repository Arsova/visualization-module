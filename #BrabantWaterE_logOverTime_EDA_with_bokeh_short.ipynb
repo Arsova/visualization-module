{
 "cells": [
  {
   "cell_type": "code",
   "execution_count": 1,
   "metadata": {
    "collapsed": true
   },
   "outputs": [],
   "source": [
    "from bokeh.plotting import figure\n",
    "from bokeh.io import output_file, show\n",
    "import pandas as pd\n",
    "from bokeh.layouts import column\n",
    "import numpy as np\n",
    "from datetime import datetime,timedelta\n",
    "import numpy as np"
   ]
  },
  {
   "cell_type": "markdown",
   "metadata": {},
   "source": [
    "# Preprocessiong data"
   ]
  },
  {
   "cell_type": "code",
   "execution_count": 20,
   "metadata": {
    "collapsed": true
   },
   "outputs": [],
   "source": [
    "# Import dataset \n",
    "# e_log = pd.read_csv(\"data/Data_heat_maps/aggregated_day/aggregated_day_total.csv\")\n",
    "e_log = pd.read_csv(\"data/aggregated_day_total_2_positives.csv\")\n",
    "complains = pd.read_excel('data/export_occurences.xlsx')\n"
   ]
  },
  {
   "cell_type": "code",
   "execution_count": 36,
   "metadata": {
    "collapsed": true
   },
   "outputs": [],
   "source": [
    "def pre_process_Eindhoven(df):\n",
    "    df['dummy'] = 1\n",
    "    df = df.groupby([\"Datum\",\"Verbruiker Omschr\",\"Hoofdtype Melding\"], as_index=False)[\"dummy\"].count()\n",
    "    df.columns = [\"Date\",\"Type_of_facility\",\"Reason_for_complain\",\"Number of complains\"]\n",
    "    df['Date2'] = pd.to_datetime(df['Date']).apply(lambda x: x.strftime('%Y-%m-%d'))\n",
    "    \n",
    "    df_Numb_com = pd.DataFrame(df[[\"Date\",\"Number of complains\"]].groupby(\"Date\", as_index=False).sum())\n",
    "    return df, df_Numb_com\n",
    "\n",
    "Eindhoven2, df = pre_process_Eindhoven(complains)\n"
   ]
  },
  {
   "cell_type": "code",
   "execution_count": 32,
   "metadata": {
    "collapsed": true,
    "scrolled": true
   },
   "outputs": [],
   "source": [
    "# Create range of dates\n",
    "\n",
    "rng = pd.DataFrame(pd.date_range(start='01/02/2017', end='12/07/2017'), columns = ['Date'])"
   ]
  },
  {
   "cell_type": "code",
   "execution_count": null,
   "metadata": {},
   "outputs": [],
   "source": []
  },
  {
   "cell_type": "code",
   "execution_count": null,
   "metadata": {
    "collapsed": true
   },
   "outputs": [],
   "source": []
  }
 ],
 "metadata": {
  "kernelspec": {
   "display_name": "Python 3",
   "language": "python",
   "name": "python3"
  },
  "language_info": {
   "codemirror_mode": {
    "name": "ipython",
    "version": 3
   },
   "file_extension": ".py",
   "mimetype": "text/x-python",
   "name": "python",
   "nbconvert_exporter": "python",
   "pygments_lexer": "ipython3",
   "version": "3.6.3"
  }
 },
 "nbformat": 4,
 "nbformat_minor": 2
}
