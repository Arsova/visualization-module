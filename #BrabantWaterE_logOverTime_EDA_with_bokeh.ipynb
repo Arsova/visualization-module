{
 "cells": [
  {
   "cell_type": "code",
   "execution_count": 1,
   "metadata": {
    "collapsed": true
   },
   "outputs": [],
   "source": [
    "#importing bokeh and pandas\n",
    "from bokeh.plotting import figure\n",
    "from bokeh.io import output_file, show\n",
    "import pandas as pd\n",
    "from bokeh.layouts import column\n",
    "import numpy as np\n",
    "from datetime import datetime,timedelta\n",
    "import numpy as np"
   ]
  },
  {
   "cell_type": "markdown",
   "metadata": {},
   "source": [
    "# Preprocessing input files for Charts "
   ]
  },
  {
   "cell_type": "code",
   "execution_count": 2,
   "metadata": {
    "collapsed": true
   },
   "outputs": [],
   "source": [
    "#Import dataset \n",
    "e_log= pd.read_csv(\"C:/Users/karsova/Desktop/Visualization Module JAnuary 2018/Data/aggregated_day_total.csv\")\n",
    "e_log=pd.read_csv(\"C:/Users/karsova/Desktop/Visualization Module JAnuary 2018/visualization-module/data/aggregated_day_total_2_positives.csv\")"
   ]
  },
  {
   "cell_type": "code",
   "execution_count": 3,
   "metadata": {},
   "outputs": [],
   "source": [
    "e_log.head()\n",
    "average_usage=e_log.groupby(\"norm_date\")[\"delta_total\"].mean()\n",
    "average_usage=average_usage.reset_index(drop=False)\n",
    "# average_usage['total_usage_log']=np.log(average_usage[\"delta_total\"])\n",
    "# average_usage.describe()"
   ]
  },
  {
   "cell_type": "code",
   "execution_count": 4,
   "metadata": {
    "collapsed": true
   },
   "outputs": [],
   "source": [
    "#Eindhoven data for chart\n",
    "# Complains in Eindhoven\n",
    "complains = pd.read_excel('C:/Users/karsova/Desktop/Visualization Module JAnuary 2018/Data/export_occurences.xlsx')"
   ]
  },
  {
   "cell_type": "code",
   "execution_count": 5,
   "metadata": {
    "collapsed": true
   },
   "outputs": [],
   "source": [
    "# complains_eindhoven_df=pd=complains[[\"Datum\",\"Verbruiker Omschr\",\"Hoofdtype Melding\"]][complains['Storingslocatie plaats']==\"EINDHOVEN\"]\n",
    "# complains_eindhoven_df=complains_eindhoven_df.reset_index(drop=True)\n",
    "# complains_eindhoven_df=complains_eindhoven_df.sort_values(\"Datum\")\n",
    "# complains_eindhoven_df=complains_eindhoven_df.reset_index(drop=True)\n",
    "# Eindhoven=complains_eindhoven_df.groupby([\"Datum\",\"Verbruiker Omschr\",\"Hoofdtype Melding\"])[\"Verbruiker Omschr\"].count()\n",
    "# Eindhoven.to_csv(\"Eindhoven_complains_aggr_over_time.csv\")\n"
   ]
  },
  {
   "cell_type": "code",
   "execution_count": 6,
   "metadata": {
    "collapsed": true
   },
   "outputs": [],
   "source": [
    "names=[\"Date\",\"Type_of_facility\",\"Reason_for_complain\",\"Number of complains\"]\n",
    "Eindhoven2 = pd.read_csv(\"Eindhoven_complains_aggr_over_time.csv\", header=None, names=names)"
   ]
  },
  {
   "cell_type": "code",
   "execution_count": 7,
   "metadata": {},
   "outputs": [
    {
     "data": {
      "text/plain": [
       "array(['Lekkage binnenshuis', 'Meteropstelling (geen lekkage)',\n",
       "       'Afwijkende kleur', 'Geen water',\n",
       "       'Geluid in de (drink)waterinstallatie', 'Lekkage buitenshuis',\n",
       "       'Afwijkende waterdruk', 'Afwijkende geur en/of smaak',\n",
       "       'Monteursinzet n.a.v. eerdere melding', 'Afwijkende temperatuur'], dtype=object)"
      ]
     },
     "execution_count": 7,
     "metadata": {},
     "output_type": "execute_result"
    }
   ],
   "source": [
    "Eindhoven2[\"Reason_for_complain\"].unique()"
   ]
  },
  {
   "cell_type": "code",
   "execution_count": 8,
   "metadata": {},
   "outputs": [
    {
     "data": {
      "text/plain": [
       "Index(['Date', 'Type_of_facility', 'Reason_for_complain',\n",
       "       'Number of complains'],\n",
       "      dtype='object')"
      ]
     },
     "execution_count": 8,
     "metadata": {},
     "output_type": "execute_result"
    }
   ],
   "source": [
    "Eindhoven2 = pd.read_csv(\"Eindhoven_complains_aggr_over_time.csv\", header=None, names=names)\n",
    "Eindhoven2.columns"
   ]
  },
  {
   "cell_type": "code",
   "execution_count": 9,
   "metadata": {
    "collapsed": true
   },
   "outputs": [],
   "source": [
    "# #working I whant to create a loop and crete a df for each reason\n",
    "# df=Eindhoven2[Eindhoven2[\"Reason_for_complain\"]=='Lekkage binnenshuis'][[\"Date\",\"Number of complains\"]]\n",
    "# # df.reset_index()\n",
    "# df=df.groupby(\"Date\",\"Reason_for_complain\")[\"Number of complains\"].sum()\n",
    "# df=pd.DataFrame(df)\n",
    "# name=[\"Number of complains\"]\n",
    "# df.columns =name\n",
    "# df.head()"
   ]
  },
  {
   "cell_type": "code",
   "execution_count": 10,
   "metadata": {},
   "outputs": [],
   "source": [
    "# Eindhoven2.head()"
   ]
  },
  {
   "cell_type": "code",
   "execution_count": 11,
   "metadata": {
    "collapsed": true
   },
   "outputs": [],
   "source": [
    "# compl=Eindhoven2.groupby(['Date','Reason_for_complain'])['Number of complains'].count()\n",
    "# Eindhoven2.Date = Eindhoven2.Date.apply(lambda x: str(x).replace('-',':'))\n",
    "# Eindhoven2['Date'] = Eindhoven2.apply(lambda row: datetime.strptime(row['Date'], '%Y:%m:%d'), axis = 1)\n",
    "# Eindhoven2['Date2']=Eindhoven2.Date.apply(lambda x: str(x).split(' 00:00:00')[0])\n",
    "# Eindhoven2.Date2 = Eindhoven2.Date.apply(lambda x: str(x).split(' 00:00:00')[0])\n",
    "Eindhoven2['Date2']=pd.to_datetime(Eindhoven2['Date']).apply(lambda x: x.strftime('%Y-%m-%d'))\n",
    "# Eindhoven2['Date3']=Eindhoven2.Date.apply(lambda x: str(x).replace('-',':'))\n",
    "Eindhoven2['Date4']=pd.to_datetime(Eindhoven2['Date']).apply(lambda x: x.strftime('%Y-%m-%d'))\n",
    "\n",
    "# Eindhoven2['Date2']=Eindhoven2.Date.apply(lambda x: str(x).split(' 00:00:00')[0])\n",
    "#transform the timestamp to str for the stacked chart becase it does not accept timestamp format "
   ]
  },
  {
   "cell_type": "code",
   "execution_count": 12,
   "metadata": {},
   "outputs": [
    {
     "data": {
      "text/plain": [
       "Date    datetime64[ns]\n",
       "dtype: object"
      ]
     },
     "execution_count": 12,
     "metadata": {},
     "output_type": "execute_result"
    }
   ],
   "source": [
    "rng = pd.date_range(start='01/02/2017', end='12/07/2017')\n",
    "rng=pd.DataFrame(rng)\n",
    "rng.columns=['Date']\n",
    "rng.dtypes\n",
    "# rng[\"Date\"]=pd.to_datetime(rng['Date']).apply(lambda x: x.strftime('%Y-%m-%d'))"
   ]
  },
  {
   "cell_type": "code",
   "execution_count": 13,
   "metadata": {
    "collapsed": true
   },
   "outputs": [],
   "source": [
    "df=Eindhoven2[[\"Date\",\"Number of complains\"]].groupby(\"Date\").sum()\n",
    "df=pd.DataFrame(df)\n",
    "df=df.reset_index()"
   ]
  },
  {
   "cell_type": "code",
   "execution_count": 14,
   "metadata": {
    "collapsed": true
   },
   "outputs": [],
   "source": [
    "# Eindhoven2[\"Date2\"]=pd.to_datetime(Eindhoven2['Date']).apply(lambda x: x.strftime('%Y-%m-%d'))"
   ]
  },
  {
   "cell_type": "code",
   "execution_count": 15,
   "metadata": {},
   "outputs": [
    {
     "data": {
      "text/plain": [
       "Date                   datetime64[ns]\n",
       "Number of complains             int64\n",
       "dtype: object"
      ]
     },
     "execution_count": 15,
     "metadata": {},
     "output_type": "execute_result"
    }
   ],
   "source": [
    "df[\"Date\"]=pd.to_datetime(df[\"Date\"])\n",
    "df.dtypes"
   ]
  },
  {
   "cell_type": "code",
   "execution_count": 16,
   "metadata": {},
   "outputs": [
    {
     "data": {
      "text/plain": [
       "Date    datetime64[ns]\n",
       "dtype: object"
      ]
     },
     "execution_count": 16,
     "metadata": {},
     "output_type": "execute_result"
    }
   ],
   "source": [
    "rng.dtypes"
   ]
  },
  {
   "cell_type": "code",
   "execution_count": 17,
   "metadata": {
    "collapsed": true
   },
   "outputs": [],
   "source": [
    "average_usage[\"Date\"]=pd.to_datetime(average_usage[\"norm_date\"])"
   ]
  },
  {
   "cell_type": "code",
   "execution_count": 18,
   "metadata": {
    "collapsed": true
   },
   "outputs": [],
   "source": [
    "# average_usage[\"norm_date\"]=pd.to_datetime(average_usage[\"norm_date\"]).apply(lambda x: x.strftime('%Y-%m-%d'))"
   ]
  },
  {
   "cell_type": "code",
   "execution_count": 19,
   "metadata": {
    "collapsed": true
   },
   "outputs": [],
   "source": [
    "average_usage=average_usage.drop(\"norm_date\", axis=1)"
   ]
  },
  {
   "cell_type": "code",
   "execution_count": 20,
   "metadata": {
    "collapsed": true
   },
   "outputs": [],
   "source": [
    "average_usage_df=pd.merge(rng,average_usage, how='left',on='Date')\n",
    "# average_usage_df=average_usage_df[[\"Date\",\"delta_total\"]]"
   ]
  },
  {
   "cell_type": "code",
   "execution_count": 21,
   "metadata": {},
   "outputs": [
    {
     "name": "stderr",
     "output_type": "stream",
     "text": [
      "C:\\Users\\karsova\\AppData\\Local\\Continuum\\Anaconda3\\lib\\site-packages\\ipykernel\\__main__.py:5: SettingWithCopyWarning: \n",
      "A value is trying to be set on a copy of a slice from a DataFrame\n",
      "\n",
      "See the caveats in the documentation: http://pandas.pydata.org/pandas-docs/stable/indexing.html#indexing-view-versus-copy\n"
     ]
    }
   ],
   "source": [
    "df=pd.merge(rng,df, how='left',on='Date')\n",
    "df=df.fillna(value=0)\n",
    "\n",
    "for i in range(0,len(df[\"Date\"])):\n",
    "     df[\"Date\"][i]=pd.Timestamp(df[\"Date\"][i])"
   ]
  },
  {
   "cell_type": "code",
   "execution_count": 22,
   "metadata": {},
   "outputs": [
    {
     "name": "stderr",
     "output_type": "stream",
     "text": [
      "C:\\Users\\karsova\\AppData\\Local\\Continuum\\Anaconda3\\lib\\site-packages\\ipykernel\\__main__.py:2: SettingWithCopyWarning: \n",
      "A value is trying to be set on a copy of a slice from a DataFrame\n",
      "\n",
      "See the caveats in the documentation: http://pandas.pydata.org/pandas-docs/stable/indexing.html#indexing-view-versus-copy\n",
      "  from ipykernel import kernelapp as app\n"
     ]
    }
   ],
   "source": [
    "for i in range(0,len(average_usage_df[\"Date\"])):\n",
    "     average_usage_df[\"Date\"][i]=pd.Timestamp(average_usage_df[\"Date\"][i])"
   ]
  },
  {
   "cell_type": "markdown",
   "metadata": {},
   "source": [
    "# Creating chart in html connecting complains with complains reasons "
   ]
  },
  {
   "cell_type": "markdown",
   "metadata": {
    "collapsed": true
   },
   "source": [
    "## Chart 1 (Number of events and e_log usage) - Working "
   ]
  },
  {
   "cell_type": "code",
   "execution_count": 23,
   "metadata": {
    "collapsed": true
   },
   "outputs": [],
   "source": [
    "import numpy as np\n",
    "# from bokeh.charts import  Line\n",
    "from bokeh.layouts import column, row\n",
    "from bokeh.layouts import gridplot\n",
    "from bokeh.plotting import figure, show, output_file\n",
    "from bokeh.models.ranges import Range1d\n",
    "from bokeh.models import ColumnDataSource, HoverTool,LinearAxis, NumeralTickFormatter\n",
    "from bokeh.plotting import figure, curdoc\n",
    "\n",
    "\n",
    "def datetime(x):\n",
    "    return np.array(x, dtype=np.datetime64)\n",
    "\n",
    "source1 = ColumnDataSource(data=dict(\n",
    "                Date=datetime(average_usage_df['Date']),\n",
    "                                y=average_usage_df['delta_total']\n",
    "))\n",
    "\n",
    "\n",
    "hover = HoverTool(\n",
    "    tooltips=[\n",
    "        ( 'Date',   '@Date{%Y:%m:%d}'            ),\n",
    "        ( 'Water usage', '@delta_total{int}'   ),\n",
    "    ]\n",
    ") \n",
    "         \n",
    "TOOLS = \"save,pan ,reset, wheel_zoom\"\n",
    "######################################Bar chart with line chart#########################################################\n",
    "#layout settings of chart 1\n",
    "p1 = figure(x_axis_type=\"datetime\",\n",
    "            title=\"Average usage based on e_log meters and number of events in Eindhoven\",\n",
    "            toolbar_location=\"above\",\n",
    "            plot_width=1200, plot_height=400,\n",
    "            y_range=Range1d(start=0, end=max(df[\"Number of complains\"]+5)),\n",
    "            tools=TOOLS\n",
    "            )\n",
    "\n",
    " \n",
    "# Setting the second y axis range name and range\n",
    "p1.extra_y_ranges = {\"foo\": Range1d(start=min(average_usage_df['delta_total']-10), end=max(average_usage_df['delta_total']+10))}\n",
    "\n",
    "# Adding the second axis to the plot.  \n",
    "p1.add_layout(LinearAxis(y_range_name=\"foo\", axis_label=\"This is a label\"), 'right')\n",
    "\n",
    "p1.grid.grid_line_alpha=1\n",
    "p1.xaxis.axis_label = 'Date'\n",
    "p1.yaxis.axis_label= \"Number of events\" \n",
    "\n",
    "p1.line('Date', 'y',source=source1,color='#d53e4f', \n",
    "        legend='Eindhoven water usage', line_width =3, y_range_name=\"foo\")\n",
    "\n",
    "p1.vbar(x=datetime(df['Date']), top=df[\"Number of complains\"],\n",
    "        width=1, color='#99d594', legend='Eindhoven number of complains', line_width =2\n",
    "        )\n",
    "\n",
    "p1.legend.location = \"top_left\"\n",
    "p1.legend.click_policy=\"hide\"\n",
    "p1.yaxis.formatter=NumeralTickFormatter(format=\"00\")\n",
    "\n",
    "show(p1)"
   ]
  },
  {
   "cell_type": "code",
   "execution_count": 24,
   "metadata": {
    "collapsed": true
   },
   "outputs": [],
   "source": [
    "Eindhoven2['Date']=pd.to_datetime(Eindhoven2['Date'])\n"
   ]
  },
  {
   "cell_type": "code",
   "execution_count": 25,
   "metadata": {
    "collapsed": true
   },
   "outputs": [],
   "source": [
    "x=Eindhoven2[\"Date\"].unique()\n",
    "x=pd.DataFrame(x)\n",
    "x.columns=[\"Date\"]"
   ]
  },
  {
   "cell_type": "markdown",
   "metadata": {},
   "source": [
    "### Create separete dataframes for each reason for event"
   ]
  },
  {
   "cell_type": "code",
   "execution_count": 26,
   "metadata": {
    "collapsed": true
   },
   "outputs": [],
   "source": [
    "#create separete dataframes for each reason \n",
    "Lekkage_binnenshuis=Eindhoven2[[\"Date\",\"Number of complains\"]][Eindhoven2[\"Reason_for_complain\"]=='Lekkage binnenshuis']\n",
    "Lekkage_binnenshuis=Lekkage_binnenshuis.groupby('Date')['Number of complains'].sum()\n",
    "Lekkage_binnenshuis=pd.DataFrame(Lekkage_binnenshuis)\n",
    "Lekkage_binnenshuis=Lekkage_binnenshuis.reset_index()\n",
    "\n",
    "Meteropstelling=Eindhoven2[[\"Date\",\"Number of complains\"]][Eindhoven2[\"Reason_for_complain\"]=='Meteropstelling (geen lekkage)']\n",
    "Meteropstelling=Meteropstelling.groupby('Date')['Number of complains'].sum()\n",
    "Meteropstelling=pd.DataFrame(Meteropstelling)\n",
    "Meteropstelling=Meteropstelling.reset_index()\n",
    "\n",
    "Afwijkende_kleur=Eindhoven2[[\"Date\",\"Number of complains\"]][Eindhoven2[\"Reason_for_complain\"]=='Afwijkende kleur']\n",
    "\n",
    "Afwijkende_kleur=Afwijkende_kleur.groupby('Date')['Number of complains'].sum()\n",
    "Afwijkende_kleur=pd.DataFrame(Afwijkende_kleur)\n",
    "Afwijkende_kleur=Afwijkende_kleur.reset_index()\n",
    "\n",
    "Geen_water=Eindhoven2[[\"Date\",\"Number of complains\"]][Eindhoven2[\"Reason_for_complain\"]=='Geen water']\n",
    "\n",
    "Geen_water=Geen_water.groupby('Date')['Number of complains'].sum()\n",
    "Geen_water=pd.DataFrame(Geen_water)\n",
    "Geen_water=Geen_water.reset_index()\n",
    "\n",
    "\n",
    "Geluid_in_de_waterinstallatie=Eindhoven2[[\"Date\",\"Number of complains\"]][Eindhoven2[\"Reason_for_complain\"]=='Geluid in de (drink)waterinstallatie']\n",
    "\n",
    "Lekkage_buitenshuis=Eindhoven2[[\"Date\",\"Number of complains\"]][Eindhoven2[\"Reason_for_complain\"]=='Lekkage buitenshuis']\n",
    "Lekkage_buitenshuis=Lekkage_buitenshuis.groupby('Date')['Number of complains'].sum()\n",
    "Lekkage_buitenshuis=pd.DataFrame(Lekkage_buitenshuis)\n",
    "Lekkage_buitenshuis=Lekkage_buitenshuis.reset_index()\n",
    "\n",
    "Afwijkende_waterdruk=Eindhoven2[[\"Date\",\"Number of complains\"]][Eindhoven2[\"Reason_for_complain\"]=='Afwijkende waterdruk']\n",
    "Afwijkende_smak=Eindhoven2[[\"Date\",\"Number of complains\"]][Eindhoven2[\"Reason_for_complain\"]=='Afwijkende geur en/of smaak']\n",
    "Monteursinzet=Eindhoven2[[\"Date\",\"Number of complains\"]][Eindhoven2[\"Reason_for_complain\"]=='Monteursinzet n.a.v. eerdere melding']\n",
    "Monteursinzet=Monteursinzet.groupby('Date')['Number of complains'].sum()\n",
    "Monteursinzet=pd.DataFrame(Monteursinzet)\n",
    "Monteursinzet=Monteursinzet.reset_index()\n",
    "\n",
    "Afwijkende_temperatuur=Eindhoven2[[\"Date\",\"Number of complains\"]][Eindhoven2[\"Reason_for_complain\"]=='Afwijkende temperatuur']"
   ]
  },
  {
   "cell_type": "code",
   "execution_count": 27,
   "metadata": {},
   "outputs": [
    {
     "name": "stderr",
     "output_type": "stream",
     "text": [
      "C:\\Users\\karsova\\AppData\\Local\\Continuum\\Anaconda3\\lib\\site-packages\\ipykernel\\__main__.py:6: SettingWithCopyWarning: \n",
      "A value is trying to be set on a copy of a slice from a DataFrame\n",
      "\n",
      "See the caveats in the documentation: http://pandas.pydata.org/pandas-docs/stable/indexing.html#indexing-view-versus-copy\n",
      "C:\\Users\\karsova\\AppData\\Local\\Continuum\\Anaconda3\\lib\\site-packages\\ipykernel\\__main__.py:12: SettingWithCopyWarning: \n",
      "A value is trying to be set on a copy of a slice from a DataFrame\n",
      "\n",
      "See the caveats in the documentation: http://pandas.pydata.org/pandas-docs/stable/indexing.html#indexing-view-versus-copy\n",
      "C:\\Users\\karsova\\AppData\\Local\\Continuum\\Anaconda3\\lib\\site-packages\\ipykernel\\__main__.py:18: SettingWithCopyWarning: \n",
      "A value is trying to be set on a copy of a slice from a DataFrame\n",
      "\n",
      "See the caveats in the documentation: http://pandas.pydata.org/pandas-docs/stable/indexing.html#indexing-view-versus-copy\n",
      "C:\\Users\\karsova\\AppData\\Local\\Continuum\\Anaconda3\\lib\\site-packages\\ipykernel\\__main__.py:25: SettingWithCopyWarning: \n",
      "A value is trying to be set on a copy of a slice from a DataFrame\n",
      "\n",
      "See the caveats in the documentation: http://pandas.pydata.org/pandas-docs/stable/indexing.html#indexing-view-versus-copy\n",
      "C:\\Users\\karsova\\AppData\\Local\\Continuum\\Anaconda3\\lib\\site-packages\\ipykernel\\__main__.py:32: SettingWithCopyWarning: \n",
      "A value is trying to be set on a copy of a slice from a DataFrame\n",
      "\n",
      "See the caveats in the documentation: http://pandas.pydata.org/pandas-docs/stable/indexing.html#indexing-view-versus-copy\n",
      "C:\\Users\\karsova\\AppData\\Local\\Continuum\\Anaconda3\\lib\\site-packages\\ipykernel\\__main__.py:38: SettingWithCopyWarning: \n",
      "A value is trying to be set on a copy of a slice from a DataFrame\n",
      "\n",
      "See the caveats in the documentation: http://pandas.pydata.org/pandas-docs/stable/indexing.html#indexing-view-versus-copy\n",
      "C:\\Users\\karsova\\AppData\\Local\\Continuum\\Anaconda3\\lib\\site-packages\\ipykernel\\__main__.py:45: SettingWithCopyWarning: \n",
      "A value is trying to be set on a copy of a slice from a DataFrame\n",
      "\n",
      "See the caveats in the documentation: http://pandas.pydata.org/pandas-docs/stable/indexing.html#indexing-view-versus-copy\n",
      "C:\\Users\\karsova\\AppData\\Local\\Continuum\\Anaconda3\\lib\\site-packages\\ipykernel\\__main__.py:52: SettingWithCopyWarning: \n",
      "A value is trying to be set on a copy of a slice from a DataFrame\n",
      "\n",
      "See the caveats in the documentation: http://pandas.pydata.org/pandas-docs/stable/indexing.html#indexing-view-versus-copy\n",
      "C:\\Users\\karsova\\AppData\\Local\\Continuum\\Anaconda3\\lib\\site-packages\\ipykernel\\__main__.py:59: SettingWithCopyWarning: \n",
      "A value is trying to be set on a copy of a slice from a DataFrame\n",
      "\n",
      "See the caveats in the documentation: http://pandas.pydata.org/pandas-docs/stable/indexing.html#indexing-view-versus-copy\n",
      "C:\\Users\\karsova\\AppData\\Local\\Continuum\\Anaconda3\\lib\\site-packages\\ipykernel\\__main__.py:65: SettingWithCopyWarning: \n",
      "A value is trying to be set on a copy of a slice from a DataFrame\n",
      "\n",
      "See the caveats in the documentation: http://pandas.pydata.org/pandas-docs/stable/indexing.html#indexing-view-versus-copy\n"
     ]
    }
   ],
   "source": [
    "#transform the dataframes to the format reqired by bokeh \n",
    "Lekkage_binnenshuis=pd.merge(rng,Lekkage_binnenshuis, how='left',on='Date')\n",
    "Lekkage_binnenshuis=Lekkage_binnenshuis.fillna(value=0)\n",
    "\n",
    "for i in range(0,len(Lekkage_binnenshuis[\"Date\"])):\n",
    "     Lekkage_binnenshuis[\"Date\"][i]=pd.Timestamp(Lekkage_binnenshuis[\"Date\"][i])\n",
    "\n",
    "Meteropstelling=pd.merge(rng,Meteropstelling, how='left',on='Date')\n",
    "Meteropstelling=Meteropstelling.fillna(value=0)\n",
    "\n",
    "for i in range(0,len(Meteropstelling[\"Date\"])):\n",
    "     Meteropstelling[\"Date\"][i]=pd.Timestamp(Meteropstelling[\"Date\"][i])\n",
    "\n",
    "Afwijkende_kleur=pd.merge(rng,Afwijkende_kleur, how='left',on='Date')\n",
    "Afwijkende_kleur=Afwijkende_kleur.fillna(value=0)\n",
    "\n",
    "for i in range(0,len(Afwijkende_kleur[\"Date\"])):\n",
    "     Afwijkende_kleur[\"Date\"][i]=pd.Timestamp(Afwijkende_kleur[\"Date\"][i])\n",
    "\n",
    "\n",
    "Geen_water=pd.merge(rng,Geen_water, how='left',on='Date')\n",
    "Geen_water=Geen_water.fillna(value=0)\n",
    "\n",
    "for i in range(0,len(Geen_water[\"Date\"])):\n",
    "     Geen_water[\"Date\"][i]=pd.Timestamp(Geen_water[\"Date\"][i])\n",
    "\n",
    "\n",
    "Geluid_in_de_waterinstallatie=pd.merge(rng,Geluid_in_de_waterinstallatie, how='left',on='Date')\n",
    "Geluid_in_de_waterinstallatie=Geluid_in_de_waterinstallatie.fillna(value=0)\n",
    "\n",
    "for i in range(0,len(Geluid_in_de_waterinstallatie[\"Date\"])):\n",
    "     Geluid_in_de_waterinstallatie[\"Date\"][i]=pd.Timestamp(Geluid_in_de_waterinstallatie[\"Date\"][i])\n",
    "\n",
    "Lekkage_buitenshuis=pd.merge(rng,Lekkage_buitenshuis, how='left',on='Date')\n",
    "Lekkage_buitenshuis=Lekkage_buitenshuis.fillna(value=0)\n",
    "\n",
    "for i in range(0,len(Lekkage_buitenshuis[\"Date\"])):\n",
    "     Lekkage_buitenshuis[\"Date\"][i]=pd.Timestamp(Lekkage_buitenshuis[\"Date\"][i])\n",
    "\n",
    "\n",
    "Afwijkende_waterdruk=pd.merge(rng,Afwijkende_waterdruk, how='left',on='Date')\n",
    "Afwijkende_waterdruk=Afwijkende_waterdruk.fillna(value=0)\n",
    "\n",
    "for i in range(0,len(Afwijkende_waterdruk[\"Date\"])):\n",
    "     Afwijkende_waterdruk[\"Date\"][i]=pd.Timestamp(Afwijkende_waterdruk[\"Date\"][i])\n",
    "\n",
    "\n",
    "Afwijkende_smak=pd.merge(rng,Afwijkende_smak, how='left',on='Date')\n",
    "Afwijkende_smak=Afwijkende_smak.fillna(value=0)\n",
    "\n",
    "for i in range(0,len(Afwijkende_smak[\"Date\"])):\n",
    "     Afwijkende_smak[\"Date\"][i]=pd.Timestamp(Afwijkende_smak[\"Date\"][i])\n",
    "\n",
    "\n",
    "Monteursinzet=pd.merge(rng,Monteursinzet, how='left',on='Date')\n",
    "Monteursinzet=Monteursinzet.fillna(value=0)\n",
    "\n",
    "for i in range(0,len(Monteursinzet[\"Date\"])):\n",
    "     Monteursinzet[\"Date\"][i]=pd.Timestamp(Monteursinzet[\"Date\"][i])\n",
    "\n",
    "Afwijkende_temperatuur=pd.merge(rng,Afwijkende_temperatuur, how='left',on='Date')\n",
    "Afwijkende_temperatuur=Afwijkende_temperatuur.fillna(value=0)\n",
    "\n",
    "for i in range(0,len(Afwijkende_temperatuur[\"Date\"])):\n",
    "     Afwijkende_temperatuur[\"Date\"][i]=pd.Timestamp(Afwijkende_temperatuur[\"Date\"][i])"
   ]
  },
  {
   "cell_type": "markdown",
   "metadata": {},
   "source": [
    "## Stacked bar chart - Working"
   ]
  },
  {
   "cell_type": "code",
   "execution_count": 28,
   "metadata": {
    "collapsed": true
   },
   "outputs": [],
   "source": [
    "import numpy as np\n",
    "from bokeh.layouts import column, row\n",
    "from bokeh.layouts import gridplot\n",
    "from bokeh.plotting import figure, show, output_file\n",
    "from bokeh.models.ranges import Range1d\n",
    "from bokeh.models import ColumnDataSource, HoverTool,LinearAxis, NumeralTickFormatter\n",
    "from bokeh.plotting import figure, curdoc\n",
    "\n",
    "TOOLS = \"save, pan, reset, wheel_zoom\"\n",
    "\n",
    "dates=list(rng['Date'])\n",
    "# print(dates)\n",
    "# print(type(dates[0]))\n",
    "events=['Lekkage binnenshuis', 'Meteropstelling (geen lekkage)',\n",
    "       'Afwijkende kleur', 'Geen water',\n",
    "       'Geluid in de (drink)waterinstallatie', 'Lekkage buitenshuis',\n",
    "       'Afwijkende waterdruk', 'Afwijkende geur en/of smaak',\n",
    "       'Monteursinzet n.a.v. eerdere melding', 'Afwijkende temperatuur']\n",
    "\n",
    "# events=np.array(Eindhoven2['Reason_for_complain'].unique())\n",
    "colours=['#a50026','#d73027','#f46d43','#fdae61','#fee08b','#d9ef8b','#a6d96a','#66bd63','#1a9850','#006837']\n",
    "\n",
    "p2=figure(  x_axis_type=\"datetime\",\n",
    "            title=\"Average usage based on e_log meters and number of events in Eindhoven\",\n",
    "            toolbar_location=\"above\",\n",
    "            plot_width=1400, plot_height=400,\n",
    "            y_range=Range1d(start=0, end=max(df[\"Number of complains\"]+5)),\n",
    "            tools=TOOLS\n",
    "         )\n",
    "\n",
    "data={'dates':list(dates),\n",
    "        'Lekkage binnenshuis': list(Lekkage_binnenshuis[\"Number of complains\"]),\n",
    "        'Meteropstelling (geen lekkage)': list(Meteropstelling[\"Number of complains\"]),\n",
    "         \"Afwijkende kleur\":  list(Afwijkende_kleur[\"Number of complains\"]),\n",
    "         \"Geen water\":list(Geen_water[\"Number of complains\"]) ,\n",
    "         'Geluid in de (drink)waterinstallatie': list(Geluid_in_de_waterinstallatie[\"Number of complains\"]) ,\n",
    "         'Lekkage buitenshuis':list(Lekkage_buitenshuis[\"Number of complains\"]) ,\n",
    "         'Afwijkende waterdruk': list(Afwijkende_waterdruk[\"Number of complains\"]),\n",
    "         'Afwijkende geur en/of smaak': list(Afwijkende_smak[\"Number of complains\"]) ,\n",
    "         'Monteursinzet n.a.v. eerdere melding':list(Monteursinzet[\"Number of complains\"]) ,\n",
    "         'Afwijkende temperatuur': list(Afwijkende_temperatuur[\"Number of complains\"])\n",
    "        }\n",
    "\n",
    "source = ColumnDataSource(data=data)\n",
    "\n",
    "\n",
    "p2.vbar_stack(events, x='dates' ,width=0.9, source=source,color=colours)\n",
    "#               , legend=[value(x) for x in events]) \n",
    "\n",
    "# p2.xaxis.major_label_orientation = np.math.pi/2\n",
    "p2.legend.click_policy=\"hide\"\n",
    "p2.xaxis.axis_label = 'Date'\n",
    "p2.yaxis.axis_label= \"Number of events \" \n",
    "\n",
    "\n",
    "#create an output file\n",
    "output_file(\"Test3.html\", title=\"Usage_and_events\")\n",
    "# show(gridplot([[p1,None],[p2,None]] ,toolbar_location='left')) \n",
    "show(p2)\n"
   ]
  },
  {
   "cell_type": "code",
   "execution_count": 29,
   "metadata": {},
   "outputs": [
    {
     "data": {
      "text/plain": [
       "array(['Lekkage binnenshuis', 'Meteropstelling (geen lekkage)',\n",
       "       'Afwijkende kleur', 'Geen water',\n",
       "       'Geluid in de (drink)waterinstallatie', 'Lekkage buitenshuis',\n",
       "       'Afwijkende waterdruk', 'Afwijkende geur en/of smaak',\n",
       "       'Monteursinzet n.a.v. eerdere melding', 'Afwijkende temperatuur'], dtype=object)"
      ]
     },
     "execution_count": 29,
     "metadata": {},
     "output_type": "execute_result"
    }
   ],
   "source": [
    "Eindhoven2['Reason_for_complain'].unique()"
   ]
  },
  {
   "cell_type": "code",
   "execution_count": 30,
   "metadata": {
    "collapsed": true
   },
   "outputs": [],
   "source": [
    "from bokeh.core.properties import value\n",
    "from bokeh.io import show, output_file\n",
    "from bokeh.models import ColumnDataSource\n",
    "from bokeh.plotting import figure\n",
    "\n",
    "output_file(\"stacked.html\")\n",
    "\n",
    "fruits = ['Apples', 'Pears', 'Nectarines', 'Plums', 'Grapes', 'Strawberries']\n",
    "years = [\"2015\", \"2016\", \"2017\"]\n",
    "colors = [\"#c9d9d3\", \"#718dbf\", \"#e84d60\"]\n",
    "\n",
    "data = {'fruits' : fruits,\n",
    "        '2015'   : [2, 1, 4, 3, 2, 4],\n",
    "        '2016'   : [5, 3, 4, 2, 4, 6],\n",
    "        '2017'   : [3, 2, 4, 4, 5, 3]}\n",
    "\n",
    "source = ColumnDataSource(data=data)\n",
    "\n",
    "p = figure(x_range=fruits, plot_height=250, title=\"Fruit Counts by Year\",\n",
    "           toolbar_location=None, tools=\"\")\n",
    "\n",
    "p.vbar_stack(years, x='fruits', width=0.9, color=colors, source=source,\n",
    "             legend=[value(x) for x in years])\n",
    "\n",
    "p.y_range.start = 0\n",
    "p.x_range.range_padding = 0.1\n",
    "p.xgrid.grid_line_color = None\n",
    "p.axis.minor_tick_line_color = None\n",
    "p.outline_line_color = None\n",
    "p.legend.location = \"top_left\"\n",
    "p.legend.orientation = \"horizontal\"\n",
    "\n",
    "show(p)"
   ]
  },
  {
   "cell_type": "markdown",
   "metadata": {},
   "source": [
    "# combine the the charts in a grid view "
   ]
  },
  {
   "cell_type": "code",
   "execution_count": 31,
   "metadata": {},
   "outputs": [
    {
     "ename": "NameError",
     "evalue": "name 'MyHover1' is not defined",
     "output_type": "error",
     "traceback": [
      "\u001b[1;31m---------------------------------------------------------------------------\u001b[0m",
      "\u001b[1;31mNameError\u001b[0m                                 Traceback (most recent call last)",
      "\u001b[1;32m<ipython-input-31-8e1b30d5d31d>\u001b[0m in \u001b[0;36m<module>\u001b[1;34m()\u001b[0m\n\u001b[0;32m     30\u001b[0m             \u001b[0mtoolbar_location\u001b[0m\u001b[1;33m=\u001b[0m\u001b[1;34m\"above\"\u001b[0m\u001b[1;33m,\u001b[0m\u001b[1;33m\u001b[0m\u001b[0m\n\u001b[0;32m     31\u001b[0m             \u001b[0my_range\u001b[0m\u001b[1;33m=\u001b[0m\u001b[0mRange1d\u001b[0m\u001b[1;33m(\u001b[0m\u001b[0mstart\u001b[0m\u001b[1;33m=\u001b[0m\u001b[1;36m0\u001b[0m\u001b[1;33m,\u001b[0m \u001b[0mend\u001b[0m\u001b[1;33m=\u001b[0m\u001b[0mmax\u001b[0m\u001b[1;33m(\u001b[0m\u001b[0mdf\u001b[0m\u001b[1;33m[\u001b[0m\u001b[1;34m\"Number of complains\"\u001b[0m\u001b[1;33m]\u001b[0m\u001b[1;33m+\u001b[0m\u001b[1;36m5\u001b[0m\u001b[1;33m)\u001b[0m\u001b[1;33m)\u001b[0m\u001b[1;33m,\u001b[0m\u001b[1;33m\u001b[0m\u001b[0m\n\u001b[1;32m---> 32\u001b[1;33m             \u001b[0mtools\u001b[0m\u001b[1;33m=\u001b[0m\u001b[1;33m[\u001b[0m\u001b[1;34m\"save,pan ,reset, wheel_zoom\"\u001b[0m \u001b[1;33m,\u001b[0m \u001b[0mMyHover1\u001b[0m\u001b[1;33m]\u001b[0m\u001b[1;33m\u001b[0m\u001b[0m\n\u001b[0m\u001b[0;32m     33\u001b[0m             )\n\u001b[0;32m     34\u001b[0m \u001b[1;33m\u001b[0m\u001b[0m\n",
      "\u001b[1;31mNameError\u001b[0m: name 'MyHover1' is not defined"
     ]
    }
   ],
   "source": [
    "import numpy as np\n",
    "# from bokeh.charts import  Line\n",
    "from bokeh.layouts import column, row\n",
    "from bokeh.layouts import gridplot\n",
    "from bokeh.plotting import figure, show, output_file, curdoc\n",
    "from bokeh.models.ranges import Range1d\n",
    "from bokeh.models import ColumnDataSource, HoverTool,LinearAxis, NumeralTickFormatter\n",
    "\n",
    "def datetime(x):\n",
    "    return np.array(x, dtype=np.datetime64)\n",
    "\n",
    "source1 = ColumnDataSource(data=dict(\n",
    "                Date=datetime(average_usage_df['Date']),\n",
    "                y=average_usage_df['delta_total']\n",
    "))\n",
    "\n",
    "\n",
    "hover = HoverTool(\n",
    "    tooltips=[\n",
    "        ( 'Date',   '@Date{%Y:%m:%d}'            ),\n",
    "        ( 'Water usage', '@delta_total{int}'   ),\n",
    "    ]\n",
    ") \n",
    "         \n",
    "TOOLS = \"save,pan ,reset, wheel_zoom\"\n",
    "######################################Bar chart with line chart#########################################################\n",
    "#layout settings of chart 1\n",
    "p1 = figure(x_axis_type=\"datetime\",\n",
    "            title=\"Average usage based on e_log meters and number of events in Eindhoven\",\n",
    "            toolbar_location=\"above\",\n",
    "            y_range=Range1d(start=0, end=max(df[\"Number of complains\"]+5)),\n",
    "            tools=[\"save,pan ,reset, wheel_zoom\" , MyHover1]\n",
    "            )\n",
    "\n",
    " \n",
    "# Setting the second y axis range name and range\n",
    "p1.extra_y_ranges = {\"foo\": Range1d(start=min(average_usage_df['delta_total']-10), end=max(average_usage_df['delta_total']+10))}\n",
    "\n",
    "# Adding the second axis to the plot.  \n",
    "p1.add_layout(LinearAxis(y_range_name=\"foo\", axis_label=\"This is a label\"), 'right')\n",
    "\n",
    "p1.grid.grid_line_alpha=1\n",
    "p1.xaxis.axis_label = 'Date'\n",
    "p1.yaxis.axis_label= \"Number of events\" \n",
    "\n",
    "p1.line('Date', 'y',source=source1,color='#d53e4f', \n",
    "        legend='Eindhoven water usage', line_width =3, y_range_name=\"foo\")\n",
    "\n",
    "p1.vbar(x=datetime(df['Date']), top=df[\"Number of complains\"],\n",
    "        width=1, color='#99d594', legend='Eindhoven number of complains', line_width =2\n",
    "        )\n",
    "\n",
    "p1.legend.location = \"top_left\"\n",
    "p1.legend.click_policy=\"hide\"\n",
    "p1.yaxis.formatter=NumeralTickFormatter(format=\"00\")\n",
    "#############################################Stacked bar chart #################################################\n",
    "\n",
    "dates=average_usage_df['Date']\n",
    "# print(dates)\n",
    "# print(type(dates[0]))\n",
    "events=list(Eindhoven2['Reason_for_complain'].unique())\n",
    "colours=['#a50026','#d73027','#f46d43','#fdae61','#fee08b','#d9ef8b','#a6d96a','#66bd63','#1a9850','#006837']\n",
    "\n",
    "p2=figure(  x_axis_type=\"datetime\",\n",
    "            title=\"Average usage based on e_log meters and number of events in Eindhoven\",\n",
    "            toolbar_location=\"above\",\n",
    "            y_range=Range1d(start=0, end=max(Eindhoven2[\"Number of complains\"]+5)),\n",
    "            tools=[\"pan,wheel_zoom\", MyHover1]\n",
    "         )\n",
    "\n",
    "data={'dates':list(dates),\n",
    "        'Lekkage binnenshuis': list(Lekkage_binnenshuis[\"Number of complains\"]),\n",
    "        'Meteropstelling (geen lekkage)': list(Meteropstelling[\"Number of complains\"]),\n",
    "         \"Afwijkende kleur\":  list(Afwijkende_kleur[\"Number of complains\"]),\n",
    "         \"Geen water\":list(Geen_water[\"Number of complains\"]) ,\n",
    "         'Geluid in de (drink)waterinstallatie': list(Geluid_in_de_waterinstallatie[\"Number of complains\"]) ,\n",
    "         'Lekkage buitenshuis':list(Lekkage_buitenshuis[\"Number of complains\"]) ,\n",
    "         'Afwijkende waterdruk': list(Afwijkende_waterdruk[\"Number of complains\"]),\n",
    "         'Afwijkende geur en/of smaak': list(Afwijkende_smak[\"Number of complains\"]) ,\n",
    "         'Monteursinzet n.a.v. eerdere melding':list(Monteursinzet[\"Number of complains\"]) ,\n",
    "         'Afwijkende temperatuur': list(Afwijkende_temperatuur[\"Number of complains\"])\n",
    "        }\n",
    "\n",
    "source = ColumnDataSource(data=data)\n",
    "p2.vbar_stack(events, x='dates' ,width=2, source=source, color=colours, legend=[value(x) for x in events]) \n",
    "\n",
    "# p2.xaxis.major_label_orientation = np.math.pi/2\n",
    "p2.legend.click_policy=\"hide\"\n",
    "p2.legend.location = \"top_right\"\n",
    "p2.xaxis.axis_label = 'Date'\n",
    "p2.yaxis.axis_label= \"Number of events \" \n",
    "p1.x_range=p2.x_range\n",
    "\n",
    "\n",
    "#create an output file\n",
    "output_file(\"Combined_charts_usage_reasons_for_events.html\", title=\"Usage_and_events\")\n",
    "show(gridplot([[p1,None],[p2,None]] ,toolbar_location='right', plot_width=1200, plot_height=400))"
   ]
  },
  {
   "cell_type": "markdown",
   "metadata": {},
   "source": [
    "# My latest version :)\n"
   ]
  },
  {
   "cell_type": "code",
   "execution_count": 34,
   "metadata": {},
   "outputs": [],
   "source": [
    "import numpy as np\n",
    "# from bokeh.charts import  Line\n",
    "import bokeh\n",
    "from bokeh.layouts import column, row\n",
    "from bokeh.layouts import gridplot\n",
    "from bokeh.plotting import figure, show, output_file, curdoc\n",
    "from bokeh.models.ranges import Range1d\n",
    "from bokeh.models import ColumnDataSource, HoverTool,LinearAxis, NumeralTickFormatter\n",
    "from bokeh.models import Legend, LegendItem\n",
    "import time\n",
    "from collections import OrderedDict\n",
    "\n",
    "def datetime(x):\n",
    "    return np.array(x, dtype=np.datetime64)\n",
    "\n",
    "source1 = ColumnDataSource(data=dict(\n",
    "                Date=datetime(average_usage_df['Date']),\n",
    "                y=average_usage_df['delta_total']\n",
    "))\n",
    "\n",
    "source2=ColumnDataSource(data=dict(\n",
    "                Date1=df['Date'],\n",
    "                complains=df[\"Number of complains\"]\n",
    "))\n",
    "\n",
    "         \n",
    "TOOLS = \"save,pan ,reset, wheel_zoom\"\n",
    "######################################Bar chart with line chart#########################################################\n",
    "#layout settings of chart 1\n",
    "p1 = figure(x_axis_type=\"datetime\",\n",
    "            title=\"Average usage based on e_log meters and number of events in Eindhoven\",\n",
    "            toolbar_location=\"above\",\n",
    "            tools=TOOLS,\n",
    "             plot_width=1400, plot_height=400\n",
    "            )\n",
    "\n",
    "\n",
    "# Setting the second y axis range name and range\n",
    "# p1.extra_y_ranges = {\"foo\": Range1d(start=min(average_usage_df['delta_total']-10), end=max(average_usage_df['delta_total']+10))}\n",
    "\n",
    "p1.grid.grid_line_alpha=1\n",
    "p1.xaxis.axis_label = 'Date'\n",
    "\n",
    "# Define 1st y-axis\n",
    "p1.yaxis.axis_label = 'Number of events'\n",
    "p1.y_range = Range1d(start=0, end=max(df[\"Number of complains\"]+5))\n",
    "\n",
    "# Create 2nd LHS y-axis\n",
    "p1.extra_y_ranges['water_usage'] = Range1d(start=min(average_usage_df['delta_total']-10), \n",
    "                                           end=max(average_usage_df['delta_total']+10000))\n",
    "p1.add_layout(LinearAxis(y_range_name='water_usage', axis_label='Water usage [l]'), 'right')\n",
    "\n",
    "\n",
    "\n",
    "a=p1.line('Date', 'y',source=source1,color='#d53e4f', \n",
    "        legend=False, line_width =2, y_range_name='water_usage')\n",
    "b=p1.vbar('Date1', top='complains', width=10,source=source2, color='#99d594', legend=False)\n",
    "\n",
    "a_plot_hoover=HoverTool(renderers=[a],\n",
    "                        tooltips=[('Date', '@Date{%F %T}'),\n",
    "                                           ('Water usage', '@y{int}')\n",
    "                                 ],\n",
    "                        formatters={\"Date\": \"datetime\"})\n",
    "\n",
    "# b=p1.vbar('Date1', top='complains', width=10,source=source2, color='#99d594', legend=False)\n",
    "\n",
    "\n",
    "b_plot_hoover=HoverTool(renderers=[b],\n",
    "                        tooltips=[('Date', '@Date1{%F %T}'),\n",
    "                                           ('#Events', '@top')],\n",
    "                       formatters={\"Date\": \"datetime\"})\n",
    " \n",
    "legend2 = Legend(items=[ ('Eindhoven water usage [l]', [a]),\n",
    "                         (\"Eindhoven number of events\", [b])]\n",
    "                        , location=(20,100))\n",
    "\n",
    "\n",
    "p1.add_tools(a_plot_hoover)\n",
    "p1.add_tools(b_plot_hoover)\n",
    "p1.add_layout(legend2, 'right') \n",
    "p1.legend.click_policy=\"hide\"\n",
    "p1.yaxis.formatter=NumeralTickFormatter(format=\"00\")\n",
    "#############################################Stacked bar chart #################################################\n",
    "\n",
    "dates=average_usage_df['Date']\n",
    "# print(dates)\n",
    "# print(type(dates[0]))\n",
    "events=list(Eindhoven2['Reason_for_complain'].unique())\n",
    "colours=['#a50026','#d73027','#f46d43','#fdae61','#fee08b','#d9ef8b','#a6d96a','#66bd63','#1a9850','#006837']\n",
    "\n",
    "\n",
    "\n",
    "p2=figure(  x_axis_type=\"datetime\",\n",
    "            title=\"Average usage based on e_log meters and number of events in Eindhoven\",\n",
    "            toolbar_location=\"above\",\n",
    "            y_range=Range1d(start=0, end=max(Eindhoven2[\"Number of complains\"]+5)),\n",
    "            tools=TOOLS, \n",
    "           plot_width=1340\n",
    "          , plot_height=400\n",
    "         )\n",
    "\n",
    "data={'dates':list(dates),\n",
    "        'Lekkage binnenshuis': list(Lekkage_binnenshuis[\"Number of complains\"]),\n",
    "        'Meteropstelling (geen lekkage)': list(Meteropstelling[\"Number of complains\"]),\n",
    "         \"Afwijkende kleur\":  list(Afwijkende_kleur[\"Number of complains\"]),\n",
    "         \"Geen water\":list(Geen_water[\"Number of complains\"]) ,\n",
    "         'Geluid in de (drink)waterinstallatie': list(Geluid_in_de_waterinstallatie[\"Number of complains\"]) ,\n",
    "         'Lekkage buitenshuis':list(Lekkage_buitenshuis[\"Number of complains\"]) ,\n",
    "         'Afwijkende waterdruk': list(Afwijkende_waterdruk[\"Number of complains\"]),\n",
    "         'Afwijkende geur en/of smaak': list(Afwijkende_smak[\"Number of complains\"]) ,\n",
    "         'Monteursinzet n.a.v. eerdere melding':list(Monteursinzet[\"Number of complains\"]) ,\n",
    "         'Afwijkende temperatuur': list(Afwijkende_temperatuur[\"Number of complains\"])\n",
    "        }\n",
    "\n",
    "source3 = ColumnDataSource(data=data)\n",
    "\n",
    "m=p2.vbar_stack(events, x='dates' ,width=10, source=source3, color=colours, legend=[value(x) for x in events]) \n",
    "\n",
    "m_plot_hoover=HoverTool(renderers=[m],\n",
    "                        tooltips=[('Date', '@Date{%F %T}'),\n",
    "                                  ('#Events', '@events')],\n",
    "                        formatters={\"Date\": \"datetime\"})\n",
    "                       \n",
    "\n",
    "# p2.xaxis.major_label_orientation = np.math.pi/2\n",
    "p2.legend.click_policy=\"hide\"\n",
    "\n",
    "legend = Legend(items=[(events[1], [m]),\n",
    "                      (events[2], [m])]\n",
    "                        , location=(30,100))\n",
    "\n",
    "p2.add_layout(legend, 'right') \n",
    "\n",
    "\n",
    "# Define 1st y-axis\n",
    "p2.yaxis.axis_label = 'Number of events'\n",
    "p2.y_range = Range1d(start=0, end=max(df[\"Number of complains\"]+5))\n",
    "\n",
    "p2.xaxis.axis_label = 'Date'\n",
    "p2.yaxis.axis_label= \"Number of events \" \n",
    "p1.x_range=p2.x_range\n",
    "p2.add_tools(m_plot_hoover)\n",
    "# p2.legend.orientation = \"horizontal\"\n",
    "# p2.legend.label_text_font='Times New Roman'\n",
    "# p2.legend.label_text_font_size='8pt'\n",
    "\n",
    "#create an output file\n",
    "output_file(\"Combined_charts_usage_reasons_for_events2.html\", title=\"Usage_and_events\")\n",
    "show(gridplot([[p1,None],[p2,None]] ,toolbar_location='left'))\n",
    "# l=column([p1,p2], sizing_mode='stretch_both')\n",
    "# curdoc().add_root(l)"
   ]
  },
  {
   "cell_type": "code",
   "execution_count": null,
   "metadata": {
    "collapsed": true
   },
   "outputs": [],
   "source": [
    "type(datetime(average_usage_df['Date']))"
   ]
  },
  {
   "cell_type": "code",
   "execution_count": null,
   "metadata": {
    "collapsed": true
   },
   "outputs": [],
   "source": [
    "print (np.__version__)"
   ]
  },
  {
   "cell_type": "code",
   "execution_count": null,
   "metadata": {},
   "outputs": [],
   "source": [
    "print (bokeh.__version__)"
   ]
  },
  {
   "cell_type": "markdown",
   "metadata": {},
   "source": [
    "#### datetime formating on hoover tool \n",
    "https://github.com/bokeh/bokeh/issues/1239"
   ]
  },
  {
   "cell_type": "code",
   "execution_count": null,
   "metadata": {
    "collapsed": true
   },
   "outputs": [],
   "source": []
  }
 ],
 "metadata": {
  "kernelspec": {
   "display_name": "Python [conda root]",
   "language": "python",
   "name": "conda-root-py"
  },
  "language_info": {
   "codemirror_mode": {
    "name": "ipython",
    "version": 3
   },
   "file_extension": ".py",
   "mimetype": "text/x-python",
   "name": "python",
   "nbconvert_exporter": "python",
   "pygments_lexer": "ipython3",
   "version": "3.6.4"
  }
 },
 "nbformat": 4,
 "nbformat_minor": 2
}
