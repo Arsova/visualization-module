{
 "cells": [
  {
   "cell_type": "markdown",
   "metadata": {},
   "source": [
    "# eLog Visualisations\n",
    "In this notebook the first functions to manipulate Bokeh\n"
   ]
  },
  {
   "cell_type": "code",
   "execution_count": 1,
   "metadata": {
    "collapsed": true
   },
   "outputs": [],
   "source": [
    "import numpy as np\n",
    "import pandas as pd\n",
    "from bokeh.plotting import figure, show, output_file\n",
    "\n",
    "from bokeh.io import show\n",
    "from bokeh.models import (\n",
    "    ColumnDataSource,\n",
    "    HoverTool,\n",
    "    LinearColorMapper,\n",
    "    BasicTicker,\n",
    "    PrintfTickFormatter,\n",
    "    ColorBar,\n",
    ")\n",
    "\n",
    "from math import pi\n",
    "import sys"
   ]
  },
  {
   "cell_type": "markdown",
   "metadata": {},
   "source": [
    "## Heat-Map for Water Consuption\n"
   ]
  },
  {
   "cell_type": "markdown",
   "metadata": {},
   "source": [
    "### Iteractive heat-map\n",
    "from: http://bokeh.pydata.org/en/latest/docs/gallery/unemployment.html"
   ]
  },
  {
   "cell_type": "code",
   "execution_count": 14,
   "metadata": {},
   "outputs": [],
   "source": [
    "def plot_bokeh(data):\n",
    "    data.columns.name = 'month'\n",
    "    data.index.name = 'hour'\n",
    "    data.index = data.index.astype(str)\n",
    "    data.columns = data.columns.astype(str)\n",
    "    \n",
    "    hours = list(data.index)\n",
    "    months = list(data.columns)\n",
    "    \n",
    "    # reshape to 1D array or rates with a month and year for each row.\n",
    "    df = pd.DataFrame(data.stack(), columns=['rate']).reset_index()\n",
    "\n",
    "    # this is the colormap from the original NYTimes plot\n",
    "    mapper = LinearColorMapper(palette=\"Greys256\", low=df.rate.min(), high=df.rate.max())\n",
    "    source = ColumnDataSource(df)\n",
    "\n",
    "    TOOLS = \"hover,save,pan,box_zoom,reset,wheel_zoom\"\n",
    "\n",
    "    p = figure(title=\"Water Consumption ({0} - {1} 2017)\".format(months[0], months[-1]),\n",
    "               x_range = months, y_range = list(reversed(hours)),\n",
    "               x_axis_location=\"above\", plot_width=900, plot_height=400,\n",
    "               tools=TOOLS, toolbar_location='below')\n",
    "\n",
    "    p.grid.grid_line_color = None\n",
    "    p.axis.axis_line_color = None\n",
    "    p.axis.major_tick_line_color = None\n",
    "    p.axis.major_label_text_font_size = \"5pt\"\n",
    "    p.axis.major_label_standoff = 0\n",
    "    p.xaxis.major_label_orientation = pi / 3\n",
    "\n",
    "    p.rect(x=\"month\", y=\"hour\", width=1, height=1,\n",
    "           source=source,\n",
    "           fill_color={'field': 'rate', 'transform': mapper},\n",
    "           line_color=None)\n",
    "\n",
    "    color_bar = ColorBar(color_mapper=mapper, major_label_text_font_size=\"5pt\",\n",
    "                         label_standoff=6, border_line_color=None, location=(0, 0))\n",
    "\n",
    "    p.add_layout(color_bar, 'right')\n",
    "\n",
    "    p.select_one(HoverTool).tooltips = [\n",
    "         ('date', '@month @hour'),\n",
    "         ('Water Consumption (L)', '@rate'),\n",
    "    ]\n",
    "\n",
    "    show(p)      # show the plot\n",
    "    "
   ]
  },
  {
   "cell_type": "code",
   "execution_count": 18,
   "metadata": {},
   "outputs": [
    {
     "name": "stderr",
     "output_type": "stream",
     "text": [
      "E-1001 (BAD_COLUMN_NAME): Glyph refers to nonexistent column name: hour [renderer: GlyphRenderer(id='6049a38f-830b-493f-a751-de70dda8db8e', ...)]\n"
     ]
    }
   ],
   "source": [
    "data = pd.read_csv('data/Data_heat_maps/hour_consuption/2100919.csv')\n",
    "plot_bokeh(data)"
   ]
  },
  {
   "cell_type": "code",
   "execution_count": null,
   "metadata": {
    "collapsed": true
   },
   "outputs": [],
   "source": []
  }
 ],
 "metadata": {
  "kernelspec": {
   "display_name": "Python 3",
   "language": "python",
   "name": "python3"
  },
  "language_info": {
   "codemirror_mode": {
    "name": "ipython",
    "version": 3
   },
   "file_extension": ".py",
   "mimetype": "text/x-python",
   "name": "python",
   "nbconvert_exporter": "python",
   "pygments_lexer": "ipython3",
   "version": "3.6.3"
  }
 },
 "nbformat": 4,
 "nbformat_minor": 2
}
