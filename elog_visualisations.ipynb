{
 "cells": [
  {
   "cell_type": "markdown",
   "metadata": {},
   "source": [
    "# eLog Visualisations\n",
    "In this notebook the first functions to manipulate Bokeh\n"
   ]
  },
  {
   "cell_type": "code",
   "execution_count": 49,
   "metadata": {
    "collapsed": true
   },
   "outputs": [],
   "source": [
    "import numpy as np\n",
    "import pandas as pd\n",
    "\n",
    "from bokeh.plotting import figure, show, output_file\n",
    "from bokeh.io import show\n",
    "from bokeh.layouts import column, row, gridplot\n",
    "from collections import OrderedDict\n",
    "from bokeh.models.markers import Triangle\n",
    "\n",
    "from bokeh.models import (\n",
    "    ColumnDataSource,\n",
    "    HoverTool,\n",
    "    LinearColorMapper,\n",
    "    BasicTicker,\n",
    "    PrintfTickFormatter,\n",
    "    ColorBar,\n",
    "    BoxAnnotation,\n",
    "    Band,\n",
    "    LogColorMapper,\n",
    "    FuncTickFormatter,\n",
    "    PrintfTickFormatter,\n",
    "    NumeralTickFormatter\n",
    ")\n",
    "\n",
    "\n",
    "from math import pi\n",
    "import sys\n",
    "import warnings\n",
    "warnings.filterwarnings('ignore')"
   ]
  },
  {
   "cell_type": "markdown",
   "metadata": {},
   "source": [
    "# Grid Plot Line + Heat map\n",
    "\n",
    "Examples:\n",
    "\n",
    "### Iteractive heat-map\n",
    "from: http://bokeh.pydata.org/en/latest/docs/gallery/unemployment.html\n",
    "\n",
    "### Line Chart\n",
    "from: https://bokeh.pydata.org/en/latest/docs/user_guide/annotations.html\n"
   ]
  },
  {
   "cell_type": "code",
   "execution_count": 2,
   "metadata": {
    "collapsed": true
   },
   "outputs": [],
   "source": [
    "data_aggregated = pd.read_csv('data/Data_heat_maps/aggregated_day/aggregated_day_total.csv')\n",
    "data_cc = pd.read_csv('data/Data_heat_maps/Customer Contacts/limited_occ_with_gps_time.csv', sep = ';')"
   ]
  },
  {
   "cell_type": "code",
   "execution_count": 53,
   "metadata": {},
   "outputs": [
    {
     "name": "stderr",
     "output_type": "stream",
     "text": [
      "E-1001 (BAD_COLUMN_NAME): Glyph refers to nonexistent column name: date [renderer: GlyphRenderer(id='579e5c01-1abc-4d12-acd1-99719f596f7a', ...)]\n",
      "E-1001 (BAD_COLUMN_NAME): Glyph refers to nonexistent column name: norm_date [renderer: GlyphRenderer(id='dad8759a-3fa3-47c5-aae7-6ce09e215073', ...)]\n",
      "E-1001 (BAD_COLUMN_NAME): Glyph refers to nonexistent column name: date [renderer: GlyphRenderer(id='579e5c01-1abc-4d12-acd1-99719f596f7a', ...)]\n",
      "E-1001 (BAD_COLUMN_NAME): Glyph refers to nonexistent column name: norm_date [renderer: GlyphRenderer(id='dad8759a-3fa3-47c5-aae7-6ce09e215073', ...)]\n",
      "E-1001 (BAD_COLUMN_NAME): Glyph refers to nonexistent column name: date [renderer: GlyphRenderer(id='579e5c01-1abc-4d12-acd1-99719f596f7a', ...)]\n",
      "E-1001 (BAD_COLUMN_NAME): Glyph refers to nonexistent column name: norm_date [renderer: GlyphRenderer(id='dad8759a-3fa3-47c5-aae7-6ce09e215073', ...)]\n"
     ]
    }
   ],
   "source": [
    "def multiple_plot(location, data_aggregated, window_size = 30):\n",
    "    retrieve = str(location) + '.csv'\n",
    "    data = pd.read_csv('data/Data_heat_maps/hour_consuption/' + retrieve)\n",
    "    #%%%%%%%%%%%%%%%%%%%%%%%%%%%%%%%%%%%%%%%%%%%%%%%%%%%%%%%%%%%%%%%%%%%%%%%%%%%%%%%%%%%%%%%%%%%%%%%%%%%%%%%%%%%%%%%%%%\n",
    "    #heat_map\n",
    "    output_file(\"heat_map.html\", title=\"heat_map.py\")\n",
    "    data.columns.name = 'date'\n",
    "    data.index.name = 'hour'\n",
    "    data.index = data.index.astype(str)\n",
    "    hours = list(data.index)\n",
    "    date = list(data.columns)\n",
    "    date = list(pd.date_range(start = date[0], end = date[-1]).strftime('%Y-%m-%d'))\n",
    "    df = pd.DataFrame(data.stack(), columns=['rate']).reset_index()\n",
    "    # %%%%%%%%%%%%%%%%%%%%%%%%%%%%%%%%%%%%%%%%%%%%%%%%%%%%%%%%%%%%%%%%%%%%%%%%%%%%%%%%%%%%%%%%%%%%%%%%%%%%%%%%%%%%%%%%%%\n",
    "    \n",
    "    output_file(\"box_annotation.html\", title=\"box_annotation.py example\")\n",
    "    colors = ['#fff7fb', '#ece7f2', '#d0d1e6', '#a6bddb', '#74a9cf', '#3690c0', '#0570b0', '#045a8d', '#023858']\n",
    "#     mapper = LinearColorMapper(palette=colors, low=df.rate.min(), high=df.rate.max())\n",
    "    mapper = LogColorMapper(palette=colors, low= 0, high=df.rate.max())\n",
    "    source = ColumnDataSource(df)\n",
    "    TOOLS = \"save,pan ,reset, wheel_zoom\"\n",
    "    p1 = figure(title=\"Water consumption in Log(Liters) from {0} to {1} - Location: {2}\".format(date[0], date[-1:], str(location)), \n",
    "                x_axis_type=\"datetime\", x_range = date, y_range = list(reversed(hours)), tools=TOOLS)\n",
    "\n",
    "    p1.grid.grid_line_color = None\n",
    "    p1.axis.axis_line_color = None\n",
    "    p1.axis.major_tick_line_color = None\n",
    "    p1.xaxis.major_label_text_font_size = '0pt'  # turn off x-axis tick labels\n",
    "    p1.yaxis.axis_label = 'Hour'\n",
    "    p1.axis.major_label_standoff = 0\n",
    "    \n",
    "    heat_map = p1.rect(x=\"date\", y=\"hour\", width=1, height=1, source = source, fill_color={'field': 'rate', 'transform': mapper},\n",
    "            line_color=None)\n",
    "    \n",
    "    color_bar = ColorBar(color_mapper=mapper, border_line_color=None,label_standoff=12, location=(0, 0))\n",
    "    p1.add_layout(color_bar, 'right')\n",
    "    \n",
    "    heat_map_hover = HoverTool(renderers=[heat_map],\n",
    "                        tooltips=OrderedDict([('Water Consumption (Liters)', '@rate'),\n",
    "                                            ('date hour', '@date'), \n",
    "                                             ('hour', '@hour'), \n",
    "                                            ]))\n",
    "    \n",
    "    p1.add_tools(heat_map_hover)\n",
    "    \n",
    "    #%%%%%%%%%%%%%%%%%%%%%%%%%%%%%%%%%%%%%%%%%%%%%%%%%%%%%%%%%%%%%%%%%%%%%%%%%%%%%%%%%%%%%%%%%%%%%%%%%%%%%%%%%%%\n",
    "    #%%%%%%%%%%%%%%%%%%%%%%%%%%%%%%%%%%%%%%%%%%%%%%%%%%%%%%%%%%%%%%%%%%%%%%%%%%%%%%%%%%%%%%%%%%%%%%%%%%%%%%%%%%%\n",
    "    # Aggregated water consumption\n",
    "    data = data_aggregated\n",
    "    data = data[data['location'] == location]\n",
    "    data['date'] = pd.to_datetime(data_aggregated['norm_date']).apply(lambda x: x.strftime('%Y-%m-%d'))\n",
    "    data['delta_total'] = data['delta_total']/1000000\n",
    "    sem = lambda x: x.std() / np.sqrt(x.size)\n",
    "    rolling = data['delta_total'].rolling(window = window_size).agg({\"y_mean\": np.mean, \"y_std\": np.std, \"y_sem\": sem})\n",
    "    rolling = rolling.fillna(method='bfill')\n",
    "    rolling['ub'] = rolling.y_mean + 2 * rolling.y_std\n",
    "    rolling['date'] = data['norm_date']\n",
    "    #%%%%%%%%%%%%%%%%%%%%%%%%%%%%%%%%%% Outlier detection %%%%%%%%%%%%%%%%%%%%%%%%%%%%%%%%%%%%%%%%%%%%%%%%%%%%%%%%%%        \n",
    "    data['c'] = '#377eb8'\n",
    "    data['c'][data['delta_total']>rolling['ub']] = '#d53e4f'\n",
    "    \n",
    "    data['s'] = 6\n",
    "    data['s'][data['delta_total']>rolling['ub']] = 8\n",
    "    \n",
    "    data['a'] = 0.4\n",
    "    data['a'][data['delta_total']>rolling['ub']] = 1\n",
    "    #%%%%%%%%%%%%%%%%%%%%%%%%%%%%%%%%%%%%%%%%%%%%%%%%%%%%%%%%%%%%%%%%%%%%%%%%%%%%%%%%%%%%%%%%%%%%%%%%%%%    \n",
    "    mean_plot = round(np.mean(data['delta_total']),3)\n",
    "    std_plot = round(np.std(data['delta_total']),3)\n",
    "    #%%%%%%%%%%%%%%%%%%%%%%%%%%%%%%%%%%%%%%%%%%%%%%%%%%%%%%%%%%%%%%%%%%%%%%%%%%%%%%%%%%%%%%%%%%%%%%%%%%%%%%%%%%%\n",
    "    p2 = figure(title=\"Daily water consumptions in million of Liters\", x_axis_type=\"datetime\", tools=TOOLS, x_range = date)\n",
    "    \n",
    "    source2 = ColumnDataSource(data)\n",
    "    \n",
    "    p_circle = p2.circle(x = 'date', y = 'delta_total', size='s', color= 'c', alpha='a', \n",
    "              legend= \"Consumption in ML (mean = {0}, std = {1})\".format(mean_plot,std_plot), source = source2)\n",
    "    \n",
    "    source3 = ColumnDataSource(rolling)\n",
    "    p_line_1 = p2.line(x='date', y='ub', legend='upper_bound (2 sigma)', line_dash = 'dashed', line_width = 4, \n",
    "            color = '#984ea3',source = source3)\n",
    "    \n",
    "    p_line_2 = p2.line(x='date', y='y_mean', source = source3, line_dash = 'dashed', line_width = 3, \n",
    "            legend='moving_average (window = {0} days)'.format(window_size), color = '#4daf4a')\n",
    "    \n",
    "    p2.legend.location = \"top_left\"\n",
    "    p2.legend.click_policy= \"hide\"\n",
    "    p2.ygrid.band_fill_color = \"olive\"\n",
    "    p2.ygrid.band_fill_alpha = 0.1\n",
    "    p2.xaxis.axis_label = 'Date'\n",
    "    p2.yaxis.axis_label = 'Million of Liters'\n",
    "    p2.xaxis.major_label_orientation = pi / 3\n",
    "    p2.x_range = p1.x_range# Same axes as the heatMap\n",
    "    p2.xaxis.formatter = FuncTickFormatter(code=\"\"\" var labels = %s; return labels[tick];\"\"\" % date)\n",
    "    \n",
    "    circle_hover = HoverTool(renderers=[p_circle],\n",
    "                        tooltips=OrderedDict([('date', '@date'), \n",
    "                                              ('Water Consumption (ML)', '@delta_total'),\n",
    "                                             ]))\n",
    "    \n",
    "    p_line_1_hover = HoverTool(renderers=[p_line_1],\n",
    "                        tooltips=OrderedDict([('date', '@date'), \n",
    "                                              ('UpperBound water consumption (ML)', '@ub'),\n",
    "                                             ]))\n",
    "    \n",
    "    p_line_2_hover = HoverTool(renderers=[p_line_2],\n",
    "                        tooltips=OrderedDict([('date', '@date'), \n",
    "                                              ('Mean water consumption (ML)', '@y_mean'),\n",
    "                                             ]))\n",
    "        \n",
    "    p2.add_tools(circle_hover)\n",
    "    p2.add_tools(p_line_1_hover)\n",
    "    p2.add_tools(p_line_2_hover)\n",
    "\n",
    "    show(gridplot([[p1,None],[p2,None]] , plot_width=1200, plot_height=400, toolbar_location = 'below'))\n",
    "\n",
    "multiple_plot(1163208, data_aggregated)     \n",
    "multiple_plot(1255365, data_aggregated)\n",
    "multiple_plot(1813229, data_aggregated)"
   ]
  },
  {
   "cell_type": "code",
   "execution_count": 52,
   "metadata": {},
   "outputs": [
    {
     "data": {
      "text/plain": [
       "array([1163208, 1164250, 1164530, 1164726, 1164778, 1164811, 1165809,\n",
       "       1165886, 1166041, 1168469, 1197792, 1221495, 1221526, 1221545,\n",
       "       1226321, 1227180, 1232676, 1233534, 1235056, 1235908, 1237870,\n",
       "       1239115, 1250893, 1252288, 1252433, 1253682, 1253857, 1254883,\n",
       "       1255336, 1255365, 1256656, 1256748, 1256801, 1257299, 1257684,\n",
       "       1257736, 1259358, 1268025, 1268089, 1268128, 1268214, 1271383,\n",
       "       1301387, 1304122, 1304871, 1305604, 1317199, 1317440, 1317820,\n",
       "       1321005, 1327194, 1333901, 1333934, 1334033, 1335520, 1338495,\n",
       "       1352181, 1404804, 1581850, 1590265, 1591055, 1591356, 1777541,\n",
       "       1778765, 1784273, 1784470, 1788300, 1788548, 1788785, 1788906,\n",
       "       1803450, 1805455, 1805822, 1806880, 1813229, 1814060, 1816705,\n",
       "       1862885, 1876147, 1880014, 2039867, 2040397, 2074490, 2080187,\n",
       "       2082468, 2090199, 2094965, 2100919, 2102701, 2116409, 2127150,\n",
       "       2133519, 2143698, 2147185, 2156898, 2187602, 2246404], dtype=int64)"
      ]
     },
     "execution_count": 52,
     "metadata": {},
     "output_type": "execute_result"
    }
   ],
   "source": [
    "data_aggregated['location'].unique()"
   ]
  },
  {
   "cell_type": "code",
   "execution_count": null,
   "metadata": {
    "collapsed": true
   },
   "outputs": [],
   "source": []
  }
 ],
 "metadata": {
  "kernelspec": {
   "display_name": "Python 3",
   "language": "python",
   "name": "python3"
  },
  "language_info": {
   "codemirror_mode": {
    "name": "ipython",
    "version": 3
   },
   "file_extension": ".py",
   "mimetype": "text/x-python",
   "name": "python",
   "nbconvert_exporter": "python",
   "pygments_lexer": "ipython3",
   "version": "3.6.3"
  }
 },
 "nbformat": 4,
 "nbformat_minor": 2
}
