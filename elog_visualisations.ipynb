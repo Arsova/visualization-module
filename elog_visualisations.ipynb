{
 "cells": [
  {
   "cell_type": "markdown",
   "metadata": {},
   "source": [
    "# eLog Visualisations\n",
    "In this notebook the first functions to manipulate Bokeh\n"
   ]
  },
  {
   "cell_type": "code",
   "execution_count": 93,
   "metadata": {
    "collapsed": true
   },
   "outputs": [],
   "source": [
    "import numpy as np\n",
    "import pandas as pd\n",
    "\n",
    "from bokeh.plotting import figure, show, output_file\n",
    "from bokeh.io import show\n",
    "from bokeh.layouts import column, row, gridplot\n",
    "\n",
    "from bokeh.models import (\n",
    "    ColumnDataSource,\n",
    "    HoverTool,\n",
    "    LinearColorMapper,\n",
    "    BasicTicker,\n",
    "    PrintfTickFormatter,\n",
    "    ColorBar,\n",
    "    BoxAnnotation,\n",
    "    Band,\n",
    "    LogColorMapper,\n",
    "    FuncTickFormatter\n",
    ")\n",
    "\n",
    "\n",
    "from math import pi\n",
    "import sys"
   ]
  },
  {
   "cell_type": "markdown",
   "metadata": {},
   "source": [
    "## Heat-Map for Water Consuption\n"
   ]
  },
  {
   "cell_type": "markdown",
   "metadata": {},
   "source": [
    "### Iteractive heat-map\n",
    "from: http://bokeh.pydata.org/en/latest/docs/gallery/unemployment.html"
   ]
  },
  {
   "cell_type": "code",
   "execution_count": 2,
   "metadata": {
    "collapsed": true
   },
   "outputs": [],
   "source": [
    "def plot_bokeh(data):\n",
    "    \n",
    "    output_file(\"heat_map.html\", title=\"heat_map.py\")\n",
    "    data.columns.name = 'date'\n",
    "    data.index.name = 'hour'\n",
    "    data.index = data.index.astype(str)\n",
    "\n",
    "    hours = list(data.index)\n",
    "    months = list(data.columns)\n",
    "    \n",
    "    # reshape to 1D array or rates with a month and year for each row.\n",
    "    df = pd.DataFrame(data.stack(), columns=['rate']).reset_index()\n",
    "\n",
    "    # this is the colormap from the original NYTimes plot\n",
    "    mapper = LinearColorMapper(palette=\"Greys256\", low=df.rate.min(), high=df.rate.max())\n",
    "    source = ColumnDataSource(df)\n",
    "\n",
    "    TOOLS = \"hover,save,pan,box_zoom,reset,wheel_zoom\"\n",
    "\n",
    "    p1 = figure(title=\"Water Consumption ({0} - {1} 2017)\".format(months[0], months[-1]), x_axis_type=\"datetime\",\n",
    "               x_range = months, y_range = list(reversed(hours)),\n",
    "               x_axis_location=\"above\", plot_width=900, plot_height=400,\n",
    "               tools=TOOLS, toolbar_location='below')\n",
    "\n",
    "    p1.grid.grid_line_color = None\n",
    "    p1.axis.axis_line_color = None\n",
    "    p1.axis.major_tick_line_color = None\n",
    "    p1.axis.major_label_text_font_size = \"5pt\"\n",
    "    p1.axis.major_label_standoff = 0\n",
    "    p1.xaxis.major_label_orientation = pi / 3\n",
    "\n",
    "    p1.rect(x=\"date\", y=\"hour\", width=1, height=1,\n",
    "           source=source,\n",
    "           fill_color={'field': 'rate', 'transform': mapper},\n",
    "           line_color=None)\n",
    "\n",
    "    color_bar = ColorBar(color_mapper=mapper, major_label_text_font_size=\"5pt\",\n",
    "                         label_standoff=6, border_line_color=None, location=(0, 0))\n",
    "\n",
    "    p1.add_layout(color_bar, 'right')\n",
    "\n",
    "    p1.select_one(HoverTool).tooltips = [\n",
    "         ('date', '@date @hour'),\n",
    "         ('Water Consumption (Liters)', '@rate'),\n",
    "    ]\n",
    "\n",
    "    show(p1)      # show the plot\n",
    "        \n",
    "\n",
    "    "
   ]
  },
  {
   "cell_type": "code",
   "execution_count": 144,
   "metadata": {
    "collapsed": true
   },
   "outputs": [],
   "source": [
    "# Example\n",
    "data = pd.read_csv('data/Data_heat_maps/hour_consuption/2100919.csv')\n",
    "plot_bokeh(data)\n"
   ]
  },
  {
   "cell_type": "markdown",
   "metadata": {},
   "source": [
    "# Line Chart\n",
    "based on:\n",
    "https://bokeh.pydata.org/en/latest/docs/user_guide/annotations.html"
   ]
  },
  {
   "cell_type": "code",
   "execution_count": 148,
   "metadata": {
    "collapsed": true
   },
   "outputs": [],
   "source": [
    "def aggregated_plot(data, location, plot_ = False):\n",
    "    data = data[data['location'] == location]\n",
    "    data['norm_date'] = pd.to_datetime(data['norm_date'])\n",
    "    data = data.set_index('norm_date')\n",
    "    \n",
    "    \n",
    "#     window_size = 30\n",
    "#     window = np.ones(window_size)/float(window_size)\n",
    "#     mean = np.convolve(data['delta_total'], window, 'same')\n",
    "    \n",
    "    \n",
    "    output_file(\"box_annotation.html\", title=\"box_annotation.py example\")\n",
    "    TOOLS = \"pan,wheel_zoom,box_zoom,reset,save\"\n",
    "\n",
    "    #reduce data size\n",
    "    p2 = figure(x_axis_type=\"datetime\", tools=TOOLS)\n",
    "\n",
    "    p2.circle(data.index.to_series(), data['delta_total'], size=4, color='darkgrey', alpha=0.6, legend= \n",
    "             \"Consumption (mean = {0}, std = {1})\".format(0, 0))\n",
    "#     p2.line(data.index.to_series(), mean, legend='avg', color='navy') \n",
    "    p2.legend.location = \"top_left\"\n",
    "    \n",
    "\n",
    "    p2.title.text = \"Water Consumption in liters (location: {})\".format(str(location))\n",
    "#     p.xgrid[0].grid_line_color=None\n",
    "#     p.ygrid[0].grid_line_alpha=0.5\n",
    "    p2.ygrid.band_fill_color = \"olive\"\n",
    "    p2.ygrid.band_fill_alpha = 0.1\n",
    "    p2.xaxis.axis_label = 'Time'\n",
    "    p2.yaxis.axis_label = 'Liters'\n",
    "    \n",
    "    show(p2)\n",
    "    "
   ]
  },
  {
   "cell_type": "code",
   "execution_count": 152,
   "metadata": {},
   "outputs": [
    {
     "name": "stderr",
     "output_type": "stream",
     "text": [
      "C:\\Users\\s157084\\AppData\\Local\\Continuum\\anaconda3\\lib\\site-packages\\ipykernel_launcher.py:3: SettingWithCopyWarning: \n",
      "A value is trying to be set on a copy of a slice from a DataFrame.\n",
      "Try using .loc[row_indexer,col_indexer] = value instead\n",
      "\n",
      "See the caveats in the documentation: http://pandas.pydata.org/pandas-docs/stable/indexing.html#indexing-view-versus-copy\n",
      "  This is separate from the ipykernel package so we can avoid doing imports until\n"
     ]
    }
   ],
   "source": [
    "# Example\n",
    "#data_aggregated = pd.read_csv('data/Data_heat_maps/aggregated_day/aggregated_day_total.csv')\n",
    "aggregated_plot(data_aggregated, 1163208)"
   ]
  },
  {
   "cell_type": "code",
   "execution_count": 156,
   "metadata": {},
   "outputs": [
    {
     "name": "stderr",
     "output_type": "stream",
     "text": [
      "C:\\Users\\s157084\\AppData\\Local\\Continuum\\anaconda3\\lib\\site-packages\\ipykernel_launcher.py:42: SettingWithCopyWarning: \n",
      "A value is trying to be set on a copy of a slice from a DataFrame.\n",
      "Try using .loc[row_indexer,col_indexer] = value instead\n",
      "\n",
      "See the caveats in the documentation: http://pandas.pydata.org/pandas-docs/stable/indexing.html#indexing-view-versus-copy\n",
      "C:\\Users\\s157084\\AppData\\Local\\Continuum\\anaconda3\\lib\\site-packages\\ipykernel_launcher.py:53: SettingWithCopyWarning: \n",
      "A value is trying to be set on a copy of a slice from a DataFrame\n",
      "\n",
      "See the caveats in the documentation: http://pandas.pydata.org/pandas-docs/stable/indexing.html#indexing-view-versus-copy\n",
      "C:\\Users\\s157084\\AppData\\Local\\Continuum\\anaconda3\\lib\\site-packages\\ipykernel_launcher.py:56: SettingWithCopyWarning: \n",
      "A value is trying to be set on a copy of a slice from a DataFrame\n",
      "\n",
      "See the caveats in the documentation: http://pandas.pydata.org/pandas-docs/stable/indexing.html#indexing-view-versus-copy\n",
      "C:\\Users\\s157084\\AppData\\Local\\Continuum\\anaconda3\\lib\\site-packages\\ipykernel_launcher.py:59: SettingWithCopyWarning: \n",
      "A value is trying to be set on a copy of a slice from a DataFrame\n",
      "\n",
      "See the caveats in the documentation: http://pandas.pydata.org/pandas-docs/stable/indexing.html#indexing-view-versus-copy\n"
     ]
    }
   ],
   "source": [
    "def multiple_plot(location, data_aggregated, window_size = 30):\n",
    "    retrieve = str(location) + '.csv'\n",
    "    data = pd.read_csv('data/Data_heat_maps/hour_consuption/' + retrieve)\n",
    "    #%%%%%%%%%%%%%%%%%%%%%%%%%%%%%%%%%%%%%%%%%%%%%%%%%%%%%%%%%%%%%%%%%%%%%%%%%%%%%%%%%%%%%%%%%%%%%%%%%%%%%%%%%%%%%%%%%%\n",
    "    #heat_map\n",
    "    output_file(\"heat_map.html\", title=\"heat_map.py\")\n",
    "    data.columns.name = 'date'\n",
    "    data.index.name = 'hour'\n",
    "    data.index = data.index.astype(str)\n",
    "    hours = list(data.index)\n",
    "    date = list(data.columns)\n",
    "    df = pd.DataFrame(data.stack(), columns=['rate']).reset_index()\n",
    "    # %%%%%%%%%%%%%%%%%%%%%%%%%%%%%%%%%%%%%%%%%%%%%%%%%%%%%%%%%%%%%%%%%%%%%%%%%%%%%%%%%%%%%%%%%%%%%%%%%%%%%%%%%%%%%%%%%%\n",
    "    \n",
    "    output_file(\"box_annotation.html\", title=\"box_annotation.py example\")\n",
    "    colors = ['#fff7fb', '#ece7f2', '#d0d1e6', '#a6bddb', '#74a9cf', '#3690c0', '#0570b0', '#045a8d', '#023858']\n",
    "#     mapper = LinearColorMapper(palette=colors, low=df.rate.min(), high=df.rate.max())\n",
    "    mapper = LogColorMapper(palette=colors, low= 0, high=df.rate.max())\n",
    "    source = ColumnDataSource(df)\n",
    "    TOOLS = \"hover,save,pan, box_zoom,reset, wheel_zoom\"\n",
    "    p1 = figure(title=\"Water consumption in Log(Liters) from {0} to {1} - Location: {2}\".format(date[0], date[-1], str(location)), \n",
    "                x_axis_type=\"datetime\", x_range = date, y_range = list(reversed(hours)), x_axis_location=\"above\", \n",
    "                tools=TOOLS, toolbar_location='left')\n",
    "\n",
    "    p1.grid.grid_line_color = None\n",
    "    p1.axis.axis_line_color = None\n",
    "    p1.axis.major_tick_line_color = None\n",
    "    p1.xaxis.major_label_text_font_size = '0pt'  # turn off x-axis tick labels\n",
    "    p1.yaxis.axis_label = 'Hour'\n",
    "    p1.axis.major_label_standoff = 0\n",
    "    p1.rect(x=\"date\", y=\"hour\", width=1, height=1, source=source, fill_color={'field': 'rate', 'transform': mapper},\n",
    "            line_color=None)\n",
    "    \n",
    "    color_bar = ColorBar(color_mapper=mapper, border_line_color=None,label_standoff=12, location=(0, 0))\n",
    "    p1.add_layout(color_bar, 'right')\n",
    "    p1.select_one(HoverTool).tooltips = [('date hour', '@date @hour'),('Water Consumption (Liters)', '@rate'),]\n",
    "    \n",
    "    #%%%%%%%%%%%%%%%%%%%%%%%%%%%%%%%%%%%%%%%%%%%%%%%%%%%%%%%%%%%%%%%%%%%%%%%%%%%%%%%%%%%%%%%%%%%%%%%%%%%%%%%%%%%\n",
    "    #%%%%%%%%%%%%%%%%%%%%%%%%%%%%%%%%%%%%%%%%%%%%%%%%%%%%%%%%%%%%%%%%%%%%%%%%%%%%%%%%%%%%%%%%%%%%%%%%%%%%%%%%%%%\n",
    "    data = data_aggregated\n",
    "    data = data[data['location'] == location]\n",
    "    data['norm_date'] = pd.to_datetime(data['norm_date'])\n",
    "    data = data.set_index('norm_date')\n",
    "    data['delta_total'] = data['delta_total']/1000000\n",
    "    data['date'] = date\n",
    "    sem = lambda x: x.std() / np.sqrt(x.size)\n",
    "    rolling = data['delta_total'].rolling(window = window_size).agg({\"y_mean\": np.mean, \"y_std\": np.std, \"y_sem\": sem})\n",
    "    rolling = rolling.fillna(method='bfill')\n",
    "    rolling['ub'] = rolling.y_mean + 2 * rolling.y_std\n",
    "    rolling['date'] = date\n",
    "    #%%%%%%%%%%%%%%%%%%%%%%%%%%%%%%%%%% Outlier detection %%%%%%%%%%%%%%%%%%%%%%%%%%%%%%%%%%%%%%%%%%%%%%%%%%%%%%%%%%        \n",
    "    data['c'] = '#377eb8'\n",
    "    data['c'][data['delta_total']>rolling['ub']] = '#d53e4f'\n",
    "    \n",
    "    data['s'] = 6\n",
    "    data['s'][data['delta_total']>rolling['ub']] = 8\n",
    "    \n",
    "    data['a'] = 0.4\n",
    "    data['a'][data['delta_total']>rolling['ub']] = 1\n",
    "    #%%%%%%%%%%%%%%%%%%%%%%%%%%%%%%%%%%%%%%%%%%%%%%%%%%%%%%%%%%%%%%%%%%%%%%%%%%%%%%%%%%%%%%%%%%%%%%%%%%%    \n",
    "    mean_plot = round(np.mean(data['delta_total']),3)\n",
    "    std_plot = round(np.std(data['delta_total']),3)\n",
    "    #%%%%%%%%%%%%%%%%%%%%%%%%%%%%%%%%%%%%%%%%%%%%%%%%%%%%%%%%%%%%%%%%%%%%%%%%%%%%%%%%%%%%%%%%%%%%%%%%%%%%%%%%%%%\n",
    "    p2 = figure(title=\"Daily water consumptions in million of Liters\", x_axis_type=\"datetime\", tools=TOOLS, x_range = date,\n",
    "               toolbar_location='left')\n",
    "    \n",
    "    source2 = ColumnDataSource(data)\n",
    "    \n",
    "    p2.circle(x = 'date', y = 'delta_total', size='s', color= 'c', alpha='a', \n",
    "              legend= \"Consumption in ML (mean = {0}, std = {1})\".format(mean_plot,std_plot), source = source2)\n",
    "    \n",
    "    source3 = ColumnDataSource(rolling)\n",
    "    p2.line(x='date', y='ub', legend='upper_bound (2 sigma)', line_dash = 'dashed', line_width = 4, \n",
    "            color = '#984ea3',source = source3)\n",
    "    \n",
    "    p2.line(x='date', y='y_mean', source = source3, line_dash = 'dashed', line_width = 3, \n",
    "            legend='moving_average (window = {0} days)'.format(window_size), color = '#4daf4a')\n",
    "    \n",
    "    p2.legend.location = \"top_left\"\n",
    "    p2.ygrid.band_fill_color = \"olive\"\n",
    "    p2.ygrid.band_fill_alpha = 0.1\n",
    "    p2.xaxis.axis_label = 'Date'\n",
    "    p2.yaxis.axis_label = 'Million of Liters'\n",
    "    p2.xaxis.major_label_orientation = pi / 3\n",
    "    p2.x_range = p1.x_range# Same axes as the heatMap\n",
    "    p2.xaxis.formatter = FuncTickFormatter(code=\"\"\" var labels = %s; return labels[tick];\"\"\" % date)\n",
    "    \n",
    "    p2.select_one(HoverTool).tooltips = [('date', '@date'), ('Water Consumption (ML)', '@delta_total'),]\n",
    "    show(gridplot([[p1,None],[p2,None]] , plot_width=1200, plot_height=400))\n",
    "    \n",
    "multiple_plot(1163208, data_aggregated)   "
   ]
  },
  {
   "cell_type": "code",
   "execution_count": null,
   "metadata": {
    "collapsed": true
   },
   "outputs": [],
   "source": []
  }
 ],
 "metadata": {
  "kernelspec": {
   "display_name": "Python 3",
   "language": "python",
   "name": "python3"
  },
  "language_info": {
   "codemirror_mode": {
    "name": "ipython",
    "version": 3
   },
   "file_extension": ".py",
   "mimetype": "text/x-python",
   "name": "python",
   "nbconvert_exporter": "python",
   "pygments_lexer": "ipython3",
   "version": "3.6.3"
  }
 },
 "nbformat": 4,
 "nbformat_minor": 2
}
